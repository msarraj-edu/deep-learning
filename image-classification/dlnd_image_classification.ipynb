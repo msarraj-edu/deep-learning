{
 "cells": [
  {
   "cell_type": "markdown",
   "metadata": {
    "collapsed": true
   },
   "source": [
    "# Image Classification\n",
    "In this project, you'll classify images from the [CIFAR-10 dataset](https://www.cs.toronto.edu/~kriz/cifar.html).  The dataset consists of airplanes, dogs, cats, and other objects. You'll preprocess the images, then train a convolutional neural network on all the samples. The images need to be normalized and the labels need to be one-hot encoded.  You'll get to apply what you learned and build a convolutional, max pooling, dropout, and fully connected layers.  At the end, you'll get to see your neural network's predictions on the sample images.\n",
    "## Get the Data\n",
    "Run the following cell to download the [CIFAR-10 dataset for python](https://www.cs.toronto.edu/~kriz/cifar-10-python.tar.gz)."
   ]
  },
  {
   "cell_type": "code",
   "execution_count": 3,
   "metadata": {},
   "outputs": [
    {
     "name": "stderr",
     "output_type": "stream",
     "text": [
      "CIFAR-10 Dataset: 171MB [00:42, 4.04MB/s]                                      \n"
     ]
    },
    {
     "name": "stdout",
     "output_type": "stream",
     "text": [
      "All files found!\n"
     ]
    }
   ],
   "source": [
    "\"\"\"\n",
    "DON'T MODIFY ANYTHING IN THIS CELL THAT IS BELOW THIS LINE\n",
    "\"\"\"\n",
    "from urllib.request import urlretrieve\n",
    "from os.path import isfile, isdir\n",
    "from tqdm import tqdm\n",
    "import problem_unittests as tests\n",
    "import tarfile\n",
    "\n",
    "cifar10_dataset_folder_path = 'cifar-10-batches-py'\n",
    "\n",
    "# Use Floyd's cifar-10 dataset if present\n",
    "floyd_cifar10_location = '/cifar/cifar-10-python.tar.gz'\n",
    "if isfile(floyd_cifar10_location):\n",
    "    tar_gz_path = floyd_cifar10_location\n",
    "else:\n",
    "    tar_gz_path = 'cifar-10-python.tar.gz'\n",
    "\n",
    "class DLProgress(tqdm):\n",
    "    last_block = 0\n",
    "\n",
    "    def hook(self, block_num=1, block_size=1, total_size=None):\n",
    "        self.total = total_size\n",
    "        self.update((block_num - self.last_block) * block_size)\n",
    "        self.last_block = block_num\n",
    "\n",
    "if not isfile(tar_gz_path):\n",
    "    with DLProgress(unit='B', unit_scale=True, miniters=1, desc='CIFAR-10 Dataset') as pbar:\n",
    "        urlretrieve(\n",
    "            'https://www.cs.toronto.edu/~kriz/cifar-10-python.tar.gz',\n",
    "            tar_gz_path,\n",
    "            pbar.hook)\n",
    "\n",
    "if not isdir(cifar10_dataset_folder_path):\n",
    "    with tarfile.open(tar_gz_path) as tar:\n",
    "        tar.extractall()\n",
    "        tar.close()\n",
    "\n",
    "\n",
    "tests.test_folder_path(cifar10_dataset_folder_path)"
   ]
  },
  {
   "cell_type": "markdown",
   "metadata": {},
   "source": [
    "## Explore the Data\n",
    "The dataset is broken into batches to prevent your machine from running out of memory.  The CIFAR-10 dataset consists of 5 batches, named `data_batch_1`, `data_batch_2`, etc.. Each batch contains the labels and images that are one of the following:\n",
    "* airplane\n",
    "* automobile\n",
    "* bird\n",
    "* cat\n",
    "* deer\n",
    "* dog\n",
    "* frog\n",
    "* horse\n",
    "* ship\n",
    "* truck\n",
    "\n",
    "Understanding a dataset is part of making predictions on the data.  Play around with the code cell below by changing the `batch_id` and `sample_id`. The `batch_id` is the id for a batch (1-5). The `sample_id` is the id for a image and label pair in the batch.\n",
    "\n",
    "Ask yourself \"What are all possible labels?\", \"What is the range of values for the image data?\", \"Are the labels in order or random?\".  Answers to questions like these will help you preprocess the data and end up with better predictions."
   ]
  },
  {
   "cell_type": "code",
   "execution_count": 9,
   "metadata": {},
   "outputs": [
    {
     "name": "stdout",
     "output_type": "stream",
     "text": [
      "\n",
      "Stats of batch 1:\n",
      "Samples: 10000\n",
      "Label Counts: {0: 1005, 1: 974, 2: 1032, 3: 1016, 4: 999, 5: 937, 6: 1030, 7: 1001, 8: 1025, 9: 981}\n",
      "First 20 Labels: [6, 9, 9, 4, 1, 1, 2, 7, 8, 3, 4, 7, 7, 2, 9, 9, 9, 3, 2, 6]\n",
      "\n",
      "Example of Image 5:\n",
      "Image - Min Value: 0 Max Value: 252\n",
      "Image - Shape: (32, 32, 3)\n",
      "Label - Label Id: 1 Name: automobile\n"
     ]
    },
    {
     "data": {
      "image/png": "[encoded data removed]",
      "text/plain": [
       "<matplotlib.figure.Figure at 0x84019b6668>"
      ]
     },
     "metadata": {
      "image/png": {
       "height": 250,
       "width": 253
      }
     },
     "output_type": "display_data"
    }
   ],
   "source": [
    "%matplotlib inline\n",
    "%config InlineBackend.figure_format = 'retina'\n",
    "\n",
    "import helper\n",
    "import numpy as np\n",
    "\n",
    "# Explore the dataset\n",
    "batch_id = 1\n",
    "sample_id = 5\n",
    "helper.display_stats(cifar10_dataset_folder_path, batch_id, sample_id)"
   ]
  },
  {
   "cell_type": "markdown",
   "metadata": {},
   "source": [
    "## Implement Preprocess Functions\n",
    "### Normalize\n",
    "In the cell below, implement the `normalize` function to take in image data, `x`, and return it as a normalized Numpy array. The values should be in the range of 0 to 1, inclusive.  The return object should be the same shape as `x`."
   ]
  },
  {
   "cell_type": "code",
   "execution_count": 175,
   "metadata": {},
   "outputs": [
    {
     "name": "stdout",
     "output_type": "stream",
     "text": [
      "Tests Passed\n"
     ]
    }
   ],
   "source": [
    "import cv2\n",
    "\n",
    "def normalize(x):\n",
    "    \"\"\"\n",
    "    Normalize a list of sample image data in the range of 0 to 1\n",
    "    : x: List of image data.  The image shape is (32, 32, 3)\n",
    "    : return: Numpy array of normalize data\n",
    "    \"\"\"\n",
    "    # TODO: Implement Function\n",
    "    normalized_imgs = np.zeros((len(x),32,32,3))\n",
    "    for idx, img in enumerate(x):\n",
    "#         normalized = np.zeros((32, 32))\n",
    "#         image = np.array(img.astype(np.float32),dtype=np.float32)\n",
    "#         print(image.dtype)\n",
    "        normalized_imgs[idx,:,:,:] = cv2.normalize(img.astype(np.float32), normalized_imgs[idx,:,:,:], alpha=0.0, beta=1.0, norm_type=cv2.NORM_MINMAX, dtype=cv2.CV_32F)\n",
    "#     print(np.max(x[61]),np.max(normalized_imgs[61,:,:,:]))\n",
    "    return normalized_imgs\n",
    "\n",
    "\n",
    "\"\"\"\n",
    "DON'T MODIFY ANYTHING IN THIS CELL THAT IS BELOW THIS LINE\n",
    "\"\"\"\n",
    "tests.test_normalize(normalize)"
   ]
  },
  {
   "cell_type": "markdown",
   "metadata": {},
   "source": [
    "### One-hot encode\n",
    "Just like the previous code cell, you'll be implementing a function for preprocessing.  This time, you'll implement the `one_hot_encode` function. The input, `x`, are a list of labels.  Implement the function to return the list of labels as One-Hot encoded Numpy array.  The possible values for labels are 0 to 9. The one-hot encoding function should return the same encoding for each value between each call to `one_hot_encode`.  Make sure to save the map of encodings outside the function.\n",
    "\n",
    "Hint: Don't reinvent the wheel."
   ]
  },
  {
   "cell_type": "code",
   "execution_count": 176,
   "metadata": {},
   "outputs": [
    {
     "name": "stdout",
     "output_type": "stream",
     "text": [
      "Tests Passed\n"
     ]
    }
   ],
   "source": [
    "from sklearn.preprocessing import OneHotEncoder\n",
    "def one_hot_encode(x):\n",
    "    \"\"\"\n",
    "    One hot encode a list of sample labels. Return a one-hot encoded vector for each label.\n",
    "    : x: List of sample Labels\n",
    "    : return: Numpy array of one-hot encoded labels\n",
    "    \"\"\"\n",
    "    # TODO: Implement Function    \n",
    "    num_of_classes = 10\n",
    "    return np.eye(num_of_classes)[x] \n",
    "\n",
    "\n",
    "\"\"\"\n",
    "DON'T MODIFY ANYTHING IN THIS CELL THAT IS BELOW THIS LINE\n",
    "\"\"\"\n",
    "tests.test_one_hot_encode(one_hot_encode)"
   ]
  },
  {
   "cell_type": "markdown",
   "metadata": {},
   "source": [
    "### Randomize Data\n",
    "As you saw from exploring the data above, the order of the samples are randomized.  It doesn't hurt to randomize it again, but you don't need to for this dataset."
   ]
  },
  {
   "cell_type": "markdown",
   "metadata": {},
   "source": [
    "## Preprocess all the data and save it\n",
    "Running the code cell below will preprocess all the CIFAR-10 data and save it to file. The code below also uses 10% of the training data for validation."
   ]
  },
  {
   "cell_type": "code",
   "execution_count": 177,
   "metadata": {
    "collapsed": true
   },
   "outputs": [],
   "source": [
    "\"\"\"\n",
    "DON'T MODIFY ANYTHING IN THIS CELL\n",
    "\"\"\"\n",
    "# Preprocess Training, Validation, and Testing Data\n",
    "helper.preprocess_and_save_data(cifar10_dataset_folder_path, normalize, one_hot_encode)"
   ]
  },
  {
   "cell_type": "markdown",
   "metadata": {},
   "source": [
    "# Check Point\n",
    "This is your first checkpoint.  If you ever decide to come back to this notebook or have to restart the notebook, you can start from here.  The preprocessed data has been saved to disk."
   ]
  },
  {
   "cell_type": "code",
   "execution_count": 162,
   "metadata": {
    "collapsed": true
   },
   "outputs": [],
   "source": [
    "\"\"\"\n",
    "DON'T MODIFY ANYTHING IN THIS CELL\n",
    "\"\"\"\n",
    "import pickle\n",
    "import problem_unittests as tests\n",
    "import helper\n",
    "\n",
    "# Load the Preprocessed Validation data\n",
    "valid_features, valid_labels = pickle.load(open('preprocess_validation.p', mode='rb'))"
   ]
  },
  {
   "cell_type": "markdown",
   "metadata": {},
   "source": [
    "## Build the network\n",
    "For the neural network, you'll build each layer into a function.  Most of the code you've seen has been outside of functions. To test your code more thoroughly, we require that you put each layer in a function.  This allows us to give you better feedback and test for simple mistakes using our unittests before you submit your project.\n",
    "\n",
    ">**Note:** If you're finding it hard to dedicate enough time for this course each week, we've provided a small shortcut to this part of the project. In the next couple of problems, you'll have the option to use classes from the [TensorFlow Layers](https://www.tensorflow.org/api_docs/python/tf/layers) or [TensorFlow Layers (contrib)](https://www.tensorflow.org/api_guides/python/contrib.layers) packages to build each layer, except the layers you build in the \"Convolutional and Max Pooling Layer\" section.  TF Layers is similar to Keras's and TFLearn's abstraction to layers, so it's easy to pickup.\n",
    "\n",
    ">However, if you would like to get the most out of this course, try to solve all the problems _without_ using anything from the TF Layers packages. You **can** still use classes from other packages that happen to have the same name as ones you find in TF Layers! For example, instead of using the TF Layers version of the `conv2d` class, [tf.layers.conv2d](https://www.tensorflow.org/api_docs/python/tf/layers/conv2d), you would want to use the TF Neural Network version of `conv2d`, [tf.nn.conv2d](https://www.tensorflow.org/api_docs/python/tf/nn/conv2d). \n",
    "\n",
    "Let's begin!\n",
    "\n",
    "### Input\n",
    "The neural network needs to read the image data, one-hot encoded labels, and dropout keep probability. Implement the following functions\n",
    "* Implement `neural_net_image_input`\n",
    " * Return a [TF Placeholder](https://www.tensorflow.org/api_docs/python/tf/placeholder)\n",
    " * Set the shape using `image_shape` with batch size set to `None`.\n",
    " * Name the TensorFlow placeholder \"x\" using the TensorFlow `name` parameter in the [TF Placeholder](https://www.tensorflow.org/api_docs/python/tf/placeholder).\n",
    "* Implement `neural_net_label_input`\n",
    " * Return a [TF Placeholder](https://www.tensorflow.org/api_docs/python/tf/placeholder)\n",
    " * Set the shape using `n_classes` with batch size set to `None`.\n",
    " * Name the TensorFlow placeholder \"y\" using the TensorFlow `name` parameter in the [TF Placeholder](https://www.tensorflow.org/api_docs/python/tf/placeholder).\n",
    "* Implement `neural_net_keep_prob_input`\n",
    " * Return a [TF Placeholder](https://www.tensorflow.org/api_docs/python/tf/placeholder) for dropout keep probability.\n",
    " * Name the TensorFlow placeholder \"keep_prob\" using the TensorFlow `name` parameter in the [TF Placeholder](https://www.tensorflow.org/api_docs/python/tf/placeholder).\n",
    "\n",
    "These names will be used at the end of the project to load your saved model.\n",
    "\n",
    "Note: `None` for shapes in TensorFlow allow for a dynamic size."
   ]
  },
  {
   "cell_type": "code",
   "execution_count": 202,
   "metadata": {},
   "outputs": [
    {
     "name": "stdout",
     "output_type": "stream",
     "text": [
      "Image Input Tests Passed.\n",
      "Label Input Tests Passed.\n",
      "Keep Prob Tests Passed.\n"
     ]
    }
   ],
   "source": [
    "import tensorflow as tf\n",
    "\n",
    "def neural_net_image_input(image_shape):\n",
    "    \"\"\"\n",
    "    Return a Tensor for a batch of image input\n",
    "    : image_shape: Shape of the images\n",
    "    : return: Tensor for image input.\n",
    "    \"\"\"\n",
    "    # TODO: Implement Function\n",
    "    input = tf.placeholder(tf.float32, \n",
    "                           shape=(None, \n",
    "                                              image_shape[0], \n",
    "                                              image_shape[1],\n",
    "                                              image_shape[2]),\n",
    "                           name= \"x\")\n",
    "    return input\n",
    "\n",
    "\n",
    "def neural_net_label_input(n_classes):\n",
    "    \"\"\"\n",
    "    Return a Tensor for a batch of label input\n",
    "    : n_classes: Number of classes\n",
    "    : return: Tensor for label input.\n",
    "    \"\"\"\n",
    "    # TODO: Implement Function\n",
    "    input = tf.placeholder(tf.int32, \n",
    "                           shape=(None, n_classes),\n",
    "                           name= \"y\")\n",
    "    return input\n",
    "\n",
    "\n",
    "def neural_net_keep_prob_input():\n",
    "    \"\"\"\n",
    "    Return a Tensor for keep probability\n",
    "    : return: Tensor for keep probability.\n",
    "    \"\"\"\n",
    "    # TODO: Implement Function\n",
    "    keep_prob_input = tf.placeholder(tf.float32,                           \n",
    "                           name= \"keep_prob\")\n",
    "    return keep_prob_input\n",
    "\n",
    "\n",
    "\"\"\"\n",
    "DON'T MODIFY ANYTHING IN THIS CELL THAT IS BELOW THIS LINE\n",
    "\"\"\"\n",
    "tf.reset_default_graph()\n",
    "tests.test_nn_image_inputs(neural_net_image_input)\n",
    "tests.test_nn_label_inputs(neural_net_label_input)\n",
    "tests.test_nn_keep_prob_inputs(neural_net_keep_prob_input)"
   ]
  },
  {
   "cell_type": "markdown",
   "metadata": {},
   "source": [
    "### Convolution and Max Pooling Layer\n",
    "Convolution layers have a lot of success with images. For this code cell, you should implement the function `conv2d_maxpool` to apply convolution then max pooling:\n",
    "* Create the weight and bias using `conv_ksize`, `conv_num_outputs` and the shape of `x_tensor`.\n",
    "* Apply a convolution to `x_tensor` using weight and `conv_strides`.\n",
    " * We recommend you use same padding, but you're welcome to use any padding.\n",
    "* Add bias\n",
    "* Add a nonlinear activation to the convolution.\n",
    "* Apply Max Pooling using `pool_ksize` and `pool_strides`.\n",
    " * We recommend you use same padding, but you're welcome to use any padding.\n",
    "\n",
    "**Note:** You **can't** use [TensorFlow Layers](https://www.tensorflow.org/api_docs/python/tf/layers) or [TensorFlow Layers (contrib)](https://www.tensorflow.org/api_guides/python/contrib.layers) for **this** layer, but you can still use TensorFlow's [Neural Network](https://www.tensorflow.org/api_docs/python/tf/nn) package. You may still use the shortcut option for all the **other** layers."
   ]
  },
  {
   "cell_type": "code",
   "execution_count": 203,
   "metadata": {},
   "outputs": [
    {
     "name": "stdout",
     "output_type": "stream",
     "text": [
      "10 (2, 2) (4, 4) (2, 2) (2, 2)\n",
      "[None, 32, 32, 5]\n",
      "Tests Passed\n"
     ]
    }
   ],
   "source": [
    "def conv2d(input, conv_num_outputs, conv_ksize, conv_strides):\n",
    "    # Filter (weights and bias)\n",
    "    print(input.get_shape().as_list())\n",
    "    F_W = tf.Variable(tf.truncated_normal((conv_ksize[0], conv_ksize[1], int(input.get_shape()[3]), conv_num_outputs)))\n",
    "    F_b = tf.Variable(tf.zeros(conv_num_outputs))\n",
    "    strides = [1, conv_strides[0], conv_strides[1], 1]\n",
    "    padding = 'SAME'\n",
    "    return tf.nn.conv2d(input, F_W, strides, padding) + F_b\n",
    "\n",
    "def maxpool(input, pool_ksize, pool_strides):\n",
    "    ksize = [1, pool_ksize[0], pool_ksize[1], 1]\n",
    "    strides = [1, pool_strides[0], pool_strides[1], 1]\n",
    "    padding = 'SAME'\n",
    "    return tf.nn.max_pool(input, ksize, strides, padding)\n",
    "\n",
    "def conv2d_maxpool(x_tensor, conv_num_outputs, conv_ksize, conv_strides, pool_ksize, pool_strides):\n",
    "    \"\"\"\n",
    "    Apply convolution then max pooling to x_tensor\n",
    "    :param x_tensor: TensorFlow Tensor\n",
    "    :param conv_num_outputs: Number of outputs for the convolutional layer\n",
    "    :param conv_ksize: kernal size 2-D Tuple for the convolutional layer\n",
    "    :param conv_strides: Stride 2-D Tuple for convolution\n",
    "    :param pool_ksize: kernal size 2-D Tuple for pool\n",
    "    :param pool_strides: Stride 2-D Tuple for pool\n",
    "    : return: A tensor that represents convolution and max pooling of x_tensor\n",
    "    \"\"\"\n",
    "    # TODO: Implement Function\n",
    "    print(conv_num_outputs, conv_ksize, conv_strides, pool_ksize, pool_strides)\n",
    "    convolved = conv2d(x_tensor, conv_num_outputs, conv_ksize, conv_strides)\n",
    "    convolved = tf.nn.relu(convolved)\n",
    "    output = maxpool(convolved, pool_ksize, pool_strides)\n",
    "\n",
    "\n",
    "    \n",
    "    return output \n",
    "\n",
    "\n",
    "\"\"\"\n",
    "DON'T MODIFY ANYTHING IN THIS CELL THAT IS BELOW THIS LINE\n",
    "\"\"\"\n",
    "tests.test_con_pool(conv2d_maxpool)"
   ]
  },
  {
   "cell_type": "markdown",
   "metadata": {},
   "source": [
    "### Flatten Layer\n",
    "Implement the `flatten` function to change the dimension of `x_tensor` from a 4-D tensor to a 2-D tensor.  The output should be the shape (*Batch Size*, *Flattened Image Size*). Shortcut option: you can use classes from the [TensorFlow Layers](https://www.tensorflow.org/api_docs/python/tf/layers) or [TensorFlow Layers (contrib)](https://www.tensorflow.org/api_guides/python/contrib.layers) packages for this layer. For more of a challenge, only use other TensorFlow packages."
   ]
  },
  {
   "cell_type": "code",
   "execution_count": 204,
   "metadata": {},
   "outputs": [
    {
     "name": "stdout",
     "output_type": "stream",
     "text": [
      "Tests Passed\n"
     ]
    }
   ],
   "source": [
    "def flatten(x_tensor):\n",
    "    \"\"\"\n",
    "    Flatten x_tensor to (Batch Size, Flattened Image Size)\n",
    "    : x_tensor: A tensor of size (Batch Size, ...), where ... are the image dimensions.\n",
    "    : return: A tensor of size (Batch Size, Flattened Image Size).\n",
    "    \"\"\"\n",
    "    # TODO: Implement Function    \n",
    "    shape = x_tensor.get_shape().as_list()    \n",
    "    output = tf.reshape(x_tensor, [-1, shape[1]*shape[2]*shape[3]])\n",
    "    return output\n",
    "\n",
    "\n",
    "\"\"\"\n",
    "DON'T MODIFY ANYTHING IN THIS CELL THAT IS BELOW THIS LINE\n",
    "\"\"\"\n",
    "tests.test_flatten(flatten)"
   ]
  },
  {
   "cell_type": "markdown",
   "metadata": {},
   "source": [
    "### Fully-Connected Layer\n",
    "Implement the `fully_conn` function to apply a fully connected layer to `x_tensor` with the shape (*Batch Size*, *num_outputs*). Shortcut option: you can use classes from the [TensorFlow Layers](https://www.tensorflow.org/api_docs/python/tf/layers) or [TensorFlow Layers (contrib)](https://www.tensorflow.org/api_guides/python/contrib.layers) packages for this layer. For more of a challenge, only use other TensorFlow packages."
   ]
  },
  {
   "cell_type": "code",
   "execution_count": 205,
   "metadata": {},
   "outputs": [
    {
     "name": "stdout",
     "output_type": "stream",
     "text": [
      "Tests Passed\n"
     ]
    }
   ],
   "source": [
    "import math\n",
    "def fully_conn(x_tensor, num_outputs):\n",
    "    \"\"\"\n",
    "    Apply a fully connected layer to x_tensor using weight and bias\n",
    "    : x_tensor: A 2-D tensor where the first dimension is batch size.\n",
    "    : num_outputs: The number of output that the new tensor should be.\n",
    "    : return: A 2-D tensor where the second dimension is num_outputs.\n",
    "    \"\"\"\n",
    "    # TODO: Implement Function\n",
    "    shape = x_tensor.get_shape().as_list()\n",
    "    weights = tf.Variable(\n",
    "        tf.truncated_normal(\n",
    "            [shape[1], \n",
    "             num_outputs], \n",
    "            stddev=1.0 / math.sqrt(float(shape[1]))),\n",
    "        name='weights')\n",
    "    \n",
    "    biases = tf.Variable(\n",
    "        tf.zeros([num_outputs]),\n",
    "        name='biases')\n",
    "    \n",
    "    hidden1 = tf.matmul(x_tensor, weights) + biases\n",
    "    \n",
    "    hidden1 = tf.nn.relu(hidden1)\n",
    "    return hidden1\n",
    "\n",
    "\n",
    "\"\"\"\n",
    "DON'T MODIFY ANYTHING IN THIS CELL THAT IS BELOW THIS LINE\n",
    "\"\"\"\n",
    "tests.test_fully_conn(fully_conn)"
   ]
  },
  {
   "cell_type": "markdown",
   "metadata": {},
   "source": [
    "### Output Layer\n",
    "Implement the `output` function to apply a fully connected layer to `x_tensor` with the shape (*Batch Size*, *num_outputs*). Shortcut option: you can use classes from the [TensorFlow Layers](https://www.tensorflow.org/api_docs/python/tf/layers) or [TensorFlow Layers (contrib)](https://www.tensorflow.org/api_guides/python/contrib.layers) packages for this layer. For more of a challenge, only use other TensorFlow packages.\n",
    "\n",
    "**Note:** Activation, softmax, or cross entropy should **not** be applied to this."
   ]
  },
  {
   "cell_type": "code",
   "execution_count": 206,
   "metadata": {},
   "outputs": [
    {
     "name": "stdout",
     "output_type": "stream",
     "text": [
      "Tests Passed\n"
     ]
    }
   ],
   "source": [
    "def output(x_tensor, num_outputs):\n",
    "    \"\"\"\n",
    "    Apply a output layer to x_tensor using weight and bias\n",
    "    : x_tensor: A 2-D tensor where the first dimension is batch size.\n",
    "    : num_outputs: The number of output that the new tensor should be.\n",
    "    : return: A 2-D tensor where the second dimension is num_outputs.\n",
    "    \"\"\"\n",
    "    # TODO: Implement Function\n",
    "    shape = x_tensor.get_shape().as_list()\n",
    "    weights = tf.Variable(\n",
    "        tf.truncated_normal(\n",
    "            [shape[1], \n",
    "             num_outputs], \n",
    "            stddev=1.0 / math.sqrt(float(shape[1]))),\n",
    "        name='weights')\n",
    "    \n",
    "    biases = tf.Variable(\n",
    "        tf.zeros([num_outputs]),\n",
    "        name='biases')\n",
    "    \n",
    "    hidden1 = tf.matmul(x_tensor, weights) + biases\n",
    "    return hidden1\n",
    "\n",
    "\n",
    "\"\"\"\n",
    "DON'T MODIFY ANYTHING IN THIS CELL THAT IS BELOW THIS LINE\n",
    "\"\"\"\n",
    "tests.test_output(output)"
   ]
  },
  {
   "cell_type": "markdown",
   "metadata": {},
   "source": [
    "### Create Convolutional Model\n",
    "Implement the function `conv_net` to create a convolutional neural network model. The function takes in a batch of images, `x`, and outputs logits.  Use the layers you created above to create this model:\n",
    "\n",
    "* Apply 1, 2, or 3 Convolution and Max Pool layers\n",
    "* Apply a Flatten Layer\n",
    "* Apply 1, 2, or 3 Fully Connected Layers\n",
    "* Apply an Output Layer\n",
    "* Return the output\n",
    "* Apply [TensorFlow's Dropout](https://www.tensorflow.org/api_docs/python/tf/nn/dropout) to one or more layers in the model using `keep_prob`. "
   ]
  },
  {
   "cell_type": "code",
   "execution_count": 207,
   "metadata": {},
   "outputs": [
    {
     "name": "stdout",
     "output_type": "stream",
     "text": [
      "8 (2, 2) (1, 1) (2, 2) (1, 1)\n",
      "[None, 32, 32, 3]\n",
      "64 (3, 3) (1, 1) (3, 3) (1, 1)\n",
      "[None, 32, 32, 8]\n",
      "8 (2, 2) (1, 1) (2, 2) (1, 1)\n",
      "[None, 32, 32, 3]\n",
      "64 (3, 3) (1, 1) (3, 3) (1, 1)\n",
      "[None, 32, 32, 8]\n",
      "Neural Network Built!\n"
     ]
    }
   ],
   "source": [
    "def conv_net(x, keep_prob):\n",
    "    \"\"\"\n",
    "    Create a convolutional neural network model\n",
    "    : x: Placeholder tensor that holds image data.\n",
    "    : keep_prob: Placeholder tensor that hold dropout keep probability.\n",
    "    : return: Tensor that represents logits\n",
    "    \"\"\"\n",
    "    # TODO: Apply 1, 2, or 3 Convolution and Max Pool layers\n",
    "    #    Play around with different number of outputs, kernel size and stride\n",
    "    # Function Definition from Above:\n",
    "    #    conv2d_maxpool(x_tensor, conv_num_outputs, conv_ksize, conv_strides, pool_ksize, pool_strides)\n",
    "#     conv_num_outputs=10\n",
    "#     conv_ksize=[2,2]\n",
    "#     conv_strides=[4,4]\n",
    "#     pool_ksize=[2,2]\n",
    "#     pool_strides=[2,2]\n",
    "    \n",
    "#     convolved = conv2d_maxpool(x,conv_num_outputs, conv_ksize, conv_strides, pool_ksize, pool_strides)\n",
    "#     convolved = tf.nn.dropout(convolved,keep_prob)\n",
    "    \n",
    "#     # TODO: Apply a Flatten Layer\n",
    "#     # Function Definition from Above:\n",
    "#     #   flatten(x_tensor)\n",
    "#     flat = flatten(convolved)\n",
    "\n",
    "#     # TODO: Apply 1, 2, or 3 Fully Connected Layers\n",
    "#     #    Play around with different number of outputs\n",
    "#     # Function Definition from Above:\n",
    "#     #   fully_conn(x_tensor, num_outputs)\n",
    "#     full = fully_conn(flat, 20)\n",
    "#     full = tf.nn.dropout(full,keep_prob)\n",
    "    \n",
    "#     # TODO: Apply an Output Layer\n",
    "#     #    Set this to the number of classes\n",
    "#     # Function Definition from Above:\n",
    "#     #   output(x_tensor, num_outputs)\n",
    "#     result = output(full, 10)\n",
    "#     \n",
    "#     # TODO: return output\n",
    "#     return result\n",
    "\n",
    "# parameters used are after tweaking forums and mentor suggestions\n",
    "    conv_num_outputs = [8,64,512]\n",
    "    conv_ksize = ((2,2), (3,3), (8,8))\n",
    "    conv_strides = ((1,1), (1,1), (1,1))\n",
    "    pool_ksize = ((2,2), (3,3), (8,8))\n",
    "    pool_strides = ((1,1), (1,1), (1,1))\n",
    "    num_outputs = [2000, 1000,10]\n",
    "#     conv_num_outputs = [32,64,128]\n",
    "#     conv_ksize = ((3,3), (3,3), (3,3))\n",
    "#     conv_strides = ((1,1),  (1,1),(1,1))\n",
    "#     pool_ksize = ((2,2), (2,2), (2,2))\n",
    "#     pool_strides = ((2,2),  (1,1),(1,1))\n",
    "#     num_outputs = [32, 64, 256]\n",
    "\n",
    "\n",
    "    for i in range(2):\n",
    "        x  = conv2d_maxpool(x, conv_num_outputs[i] , conv_ksize[i] , conv_strides[i] , pool_ksize[i] , pool_strides[i] )\n",
    "\n",
    "    x = flatten(x)\n",
    "\n",
    "\n",
    "    for i in range(2):\n",
    "        x = fully_conn(x, num_outputs[i])\n",
    "        tf.nn.dropout(x, keep_prob)\n",
    "\n",
    "    \n",
    "    x = output(x, 10)\n",
    "\n",
    "    return x\n",
    "\n",
    "\n",
    "\"\"\"\n",
    "DON'T MODIFY ANYTHING IN THIS CELL THAT IS BELOW THIS LINE\n",
    "\"\"\"\n",
    "\n",
    "##############################\n",
    "## Build the Neural Network ##\n",
    "##############################\n",
    "\n",
    "# Remove previous weights, bias, inputs, etc..\n",
    "tf.reset_default_graph()\n",
    "\n",
    "# Inputs\n",
    "x = neural_net_image_input((32, 32, 3))\n",
    "y = neural_net_label_input(10)\n",
    "keep_prob = neural_net_keep_prob_input()\n",
    "\n",
    "# Model\n",
    "logits = conv_net(x, keep_prob)\n",
    "\n",
    "# Name logits Tensor, so that is can be loaded from disk after training\n",
    "logits = tf.identity(logits, name='logits')\n",
    "\n",
    "# Loss and Optimizer\n",
    "cost = tf.reduce_mean(tf.nn.softmax_cross_entropy_with_logits(logits=logits, labels=y))\n",
    "optimizer = tf.train.AdamOptimizer().minimize(cost)\n",
    "\n",
    "# Accuracy\n",
    "correct_pred = tf.equal(tf.argmax(logits, 1), tf.argmax(y, 1))\n",
    "accuracy = tf.reduce_mean(tf.cast(correct_pred, tf.float32), name='accuracy')\n",
    "\n",
    "tests.test_conv_net(conv_net)"
   ]
  },
  {
   "cell_type": "markdown",
   "metadata": {},
   "source": [
    "## Train the Neural Network\n",
    "### Single Optimization\n",
    "Implement the function `train_neural_network` to do a single optimization.  The optimization should use `optimizer` to optimize in `session` with a `feed_dict` of the following:\n",
    "* `x` for image input\n",
    "* `y` for labels\n",
    "* `keep_prob` for keep probability for dropout\n",
    "\n",
    "This function will be called for each batch, so `tf.global_variables_initializer()` has already been called.\n",
    "\n",
    "Note: Nothing needs to be returned. This function is only optimizing the neural network."
   ]
  },
  {
   "cell_type": "code",
   "execution_count": 208,
   "metadata": {},
   "outputs": [
    {
     "name": "stdout",
     "output_type": "stream",
     "text": [
      "Tests Passed\n"
     ]
    }
   ],
   "source": [
    "def train_neural_network(session, optimizer, keep_probability, feature_batch, label_batch):\n",
    "    \"\"\"\n",
    "    Optimize the session on a batch of images and labels\n",
    "    : session: Current TensorFlow session\n",
    "    : optimizer: TensorFlow optimizer function\n",
    "    : keep_probability: keep probability\n",
    "    : feature_batch: Batch of Numpy image data\n",
    "    : label_batch: Batch of Numpy label data\n",
    "    \"\"\"\n",
    "    # TODO: Implement Function\n",
    "    session.run(optimizer, feed_dict={x:feature_batch,\n",
    "                                     y: label_batch,\n",
    "                                     keep_prob: keep_probability})\n",
    "\n",
    "\n",
    "\"\"\"\n",
    "DON'T MODIFY ANYTHING IN THIS CELL THAT IS BELOW THIS LINE\n",
    "\"\"\"\n",
    "tests.test_train_nn(train_neural_network)"
   ]
  },
  {
   "cell_type": "markdown",
   "metadata": {},
   "source": [
    "### Show Stats\n",
    "Implement the function `print_stats` to print loss and validation accuracy.  Use the global variables `valid_features` and `valid_labels` to calculate validation accuracy.  Use a keep probability of `1.0` to calculate the loss and validation accuracy."
   ]
  },
  {
   "cell_type": "code",
   "execution_count": 209,
   "metadata": {
    "collapsed": true
   },
   "outputs": [],
   "source": [
    "def print_stats(session, feature_batch, label_batch, cost, accuracy):\n",
    "    \"\"\"\n",
    "    Print information about loss and validation accuracy\n",
    "    : session: Current TensorFlow session\n",
    "    : feature_batch: Batch of Numpy image data\n",
    "    : label_batch: Batch of Numpy label data\n",
    "    : cost: TensorFlow cost function\n",
    "    : accuracy: TensorFlow accuracy function\n",
    "    \"\"\"\n",
    "    # TODO: Implement Function\n",
    "    loss = session.run(cost,feed_dict={x:feature_batch,\n",
    "                                      y: label_batch,\n",
    "                                      keep_prob:1.0})\n",
    "    acc = session.run(accuracy, feed_dict={x:valid_features,\n",
    "                                      y: valid_labels,\n",
    "                                      keep_prob:1.0} )\n",
    "    print(\"loss {:f} valid accu. {:f}\".format(loss,acc))\n",
    "    pass\n"
   ]
  },
  {
   "cell_type": "markdown",
   "metadata": {},
   "source": [
    "### Hyperparameters\n",
    "Tune the following parameters:\n",
    "* Set `epochs` to the number of iterations until the network stops learning or start overfitting\n",
    "* Set `batch_size` to the highest number that your machine has memory for.  Most people set them to common sizes of memory:\n",
    " * 64\n",
    " * 128\n",
    " * 256\n",
    " * ...\n",
    "* Set `keep_probability` to the probability of keeping a node using dropout"
   ]
  },
  {
   "cell_type": "code",
   "execution_count": 210,
   "metadata": {
    "collapsed": true
   },
   "outputs": [],
   "source": [
    "# TODO: Tune Parameters\n",
    "epochs = 20\n",
    "batch_size = 256\n",
    "keep_probability = 0.7"
   ]
  },
  {
   "cell_type": "markdown",
   "metadata": {},
   "source": [
    "### Train on a Single CIFAR-10 Batch\n",
    "Instead of training the neural network on all the CIFAR-10 batches of data, let's use a single batch. This should save time while you iterate on the model to get a better accuracy.  Once the final validation accuracy is 50% or greater, run the model on all the data in the next section."
   ]
  },
  {
   "cell_type": "code",
   "execution_count": 211,
   "metadata": {
    "scrolled": true
   },
   "outputs": [
    {
     "name": "stdout",
     "output_type": "stream",
     "text": [
      "Checking the Training on a Single Batch...\n",
      "Epoch  1, CIFAR-10 Batch 1:  loss 6.280855 valid accu. 0.244000\n",
      "Epoch  2, CIFAR-10 Batch 1:  loss 1.831329 valid accu. 0.362800\n",
      "Epoch  3, CIFAR-10 Batch 1:  loss 1.503528 valid accu. 0.388000\n",
      "Epoch  4, CIFAR-10 Batch 1:  loss 1.311294 valid accu. 0.416400\n",
      "Epoch  5, CIFAR-10 Batch 1:  loss 1.123363 valid accu. 0.430400\n",
      "Epoch  6, CIFAR-10 Batch 1:  loss 0.994731 valid accu. 0.446000\n",
      "Epoch  7, CIFAR-10 Batch 1:  loss 0.895968 valid accu. 0.459000\n",
      "Epoch  8, CIFAR-10 Batch 1:  loss 0.787420 valid accu. 0.462000\n",
      "Epoch  9, CIFAR-10 Batch 1:  loss 0.720852 valid accu. 0.462400\n",
      "Epoch 10, CIFAR-10 Batch 1:  loss 0.615124 valid accu. 0.481400\n",
      "Epoch 11, CIFAR-10 Batch 1:  loss 0.562930 valid accu. 0.495600\n",
      "Epoch 12, CIFAR-10 Batch 1:  loss 0.505811 valid accu. 0.473000\n",
      "Epoch 13, CIFAR-10 Batch 1:  loss 0.453534 valid accu. 0.479800\n",
      "Epoch 14, CIFAR-10 Batch 1:  loss 0.416365 valid accu. 0.479800\n",
      "Epoch 15, CIFAR-10 Batch 1:  loss 0.375646 valid accu. 0.507200\n",
      "Epoch 16, CIFAR-10 Batch 1:  loss 0.432136 valid accu. 0.493600\n",
      "Epoch 17, CIFAR-10 Batch 1:  loss 0.291663 valid accu. 0.489600\n",
      "Epoch 18, CIFAR-10 Batch 1:  loss 0.429071 valid accu. 0.452600\n",
      "Epoch 19, CIFAR-10 Batch 1:  loss 0.326455 valid accu. 0.498000\n",
      "Epoch 20, CIFAR-10 Batch 1:  loss 0.279917 valid accu. 0.502600\n"
     ]
    }
   ],
   "source": [
    "\"\"\"\n",
    "DON'T MODIFY ANYTHING IN THIS CELL\n",
    "\"\"\"\n",
    "print('Checking the Training on a Single Batch...')\n",
    "with tf.Session() as sess:\n",
    "    # Initializing the variables\n",
    "    sess.run(tf.global_variables_initializer())\n",
    "    \n",
    "    # Training cycle\n",
    "    for epoch in range(epochs):\n",
    "        batch_i = 1\n",
    "        for batch_features, batch_labels in helper.load_preprocess_training_batch(batch_i, batch_size):\n",
    "#             print(batch_features[0,:,:,:])\n",
    "            train_neural_network(sess, optimizer, keep_probability, batch_features, batch_labels)\n",
    "        print('Epoch {:>2}, CIFAR-10 Batch {}:  '.format(epoch + 1, batch_i), end='')\n",
    "        print_stats(sess, batch_features, batch_labels, cost, accuracy)"
   ]
  },
  {
   "cell_type": "markdown",
   "metadata": {},
   "source": [
    "### Fully Train the Model\n",
    "Now that you got a good accuracy with a single CIFAR-10 batch, try it with all five batches."
   ]
  },
  {
   "cell_type": "code",
   "execution_count": 212,
   "metadata": {},
   "outputs": [
    {
     "name": "stdout",
     "output_type": "stream",
     "text": [
      "Training...\n",
      "Epoch  1, CIFAR-10 Batch 1:  loss 6.326209 valid accu. 0.270600\n",
      "Epoch  1, CIFAR-10 Batch 2:  loss 1.471831 valid accu. 0.416000\n",
      "Epoch  1, CIFAR-10 Batch 3:  loss 1.306655 valid accu. 0.464800\n",
      "Epoch  1, CIFAR-10 Batch 4:  loss 1.212043 valid accu. 0.438400\n",
      "Epoch  1, CIFAR-10 Batch 5:  loss 1.555033 valid accu. 0.465000\n",
      "Epoch  2, CIFAR-10 Batch 1:  loss 1.416281 valid accu. 0.485400\n",
      "Epoch  2, CIFAR-10 Batch 2:  loss 1.040081 valid accu. 0.481000\n",
      "Epoch  2, CIFAR-10 Batch 3:  loss 0.896779 valid accu. 0.524600\n",
      "Epoch  2, CIFAR-10 Batch 4:  loss 0.834656 valid accu. 0.529200\n",
      "Epoch  2, CIFAR-10 Batch 5:  loss 1.180649 valid accu. 0.531400\n",
      "Epoch  3, CIFAR-10 Batch 1:  loss 1.246243 valid accu. 0.507600\n",
      "Epoch  3, CIFAR-10 Batch 2:  loss 0.825778 valid accu. 0.524000\n",
      "Epoch  3, CIFAR-10 Batch 3:  loss 0.612335 valid accu. 0.565600\n",
      "Epoch  3, CIFAR-10 Batch 4:  loss 0.727975 valid accu. 0.562800\n",
      "Epoch  3, CIFAR-10 Batch 5:  loss 0.906703 valid accu. 0.553600\n",
      "Epoch  4, CIFAR-10 Batch 1:  loss 1.032052 valid accu. 0.520000\n",
      "Epoch  4, CIFAR-10 Batch 2:  loss 0.605817 valid accu. 0.539600\n",
      "Epoch  4, CIFAR-10 Batch 3:  loss 0.530639 valid accu. 0.577000\n",
      "Epoch  4, CIFAR-10 Batch 4:  loss 0.620954 valid accu. 0.563600\n",
      "Epoch  4, CIFAR-10 Batch 5:  loss 0.779038 valid accu. 0.561800\n",
      "Epoch  5, CIFAR-10 Batch 1:  loss 0.832983 valid accu. 0.528600\n",
      "Epoch  5, CIFAR-10 Batch 2:  loss 0.518895 valid accu. 0.543600\n",
      "Epoch  5, CIFAR-10 Batch 3:  loss 0.442948 valid accu. 0.601600\n",
      "Epoch  5, CIFAR-10 Batch 4:  loss 0.517730 valid accu. 0.579600\n",
      "Epoch  5, CIFAR-10 Batch 5:  loss 0.693577 valid accu. 0.561400\n",
      "Epoch  6, CIFAR-10 Batch 1:  loss 0.625147 valid accu. 0.585000\n",
      "Epoch  6, CIFAR-10 Batch 2:  loss 0.428861 valid accu. 0.554400\n",
      "Epoch  6, CIFAR-10 Batch 3:  loss 0.377641 valid accu. 0.597000\n",
      "Epoch  6, CIFAR-10 Batch 4:  loss 0.397491 valid accu. 0.585600\n",
      "Epoch  6, CIFAR-10 Batch 5:  loss 0.490646 valid accu. 0.575800\n",
      "Epoch  7, CIFAR-10 Batch 1:  loss 0.538459 valid accu. 0.594200\n",
      "Epoch  7, CIFAR-10 Batch 2:  loss 0.353855 valid accu. 0.576400\n",
      "Epoch  7, CIFAR-10 Batch 3:  loss 0.295923 valid accu. 0.602800\n",
      "Epoch  7, CIFAR-10 Batch 4:  loss 0.347904 valid accu. 0.603000\n",
      "Epoch  7, CIFAR-10 Batch 5:  loss 0.530914 valid accu. 0.579200\n",
      "Epoch  8, CIFAR-10 Batch 1:  loss 0.475509 valid accu. 0.593000\n",
      "Epoch  8, CIFAR-10 Batch 2:  loss 0.316289 valid accu. 0.571200\n",
      "Epoch  8, CIFAR-10 Batch 3:  loss 0.306993 valid accu. 0.583800\n",
      "Epoch  8, CIFAR-10 Batch 4:  loss 0.316868 valid accu. 0.585600\n",
      "Epoch  8, CIFAR-10 Batch 5:  loss 0.362388 valid accu. 0.576600\n",
      "Epoch  9, CIFAR-10 Batch 1:  loss 0.367915 valid accu. 0.578800\n",
      "Epoch  9, CIFAR-10 Batch 2:  loss 0.335670 valid accu. 0.550800\n",
      "Epoch  9, CIFAR-10 Batch 3:  loss 0.346889 valid accu. 0.597600\n",
      "Epoch  9, CIFAR-10 Batch 4:  loss 0.323931 valid accu. 0.583600\n",
      "Epoch  9, CIFAR-10 Batch 5:  loss 0.416920 valid accu. 0.596400\n",
      "Epoch 10, CIFAR-10 Batch 1:  loss 0.432902 valid accu. 0.551000\n",
      "Epoch 10, CIFAR-10 Batch 2:  loss 0.270383 valid accu. 0.589400\n",
      "Epoch 10, CIFAR-10 Batch 3:  loss 0.328950 valid accu. 0.534000\n",
      "Epoch 10, CIFAR-10 Batch 4:  loss 0.351721 valid accu. 0.571200\n",
      "Epoch 10, CIFAR-10 Batch 5:  loss 0.392433 valid accu. 0.568400\n",
      "Epoch 11, CIFAR-10 Batch 1:  loss 0.419385 valid accu. 0.555200\n",
      "Epoch 11, CIFAR-10 Batch 2:  loss 0.249492 valid accu. 0.607000\n",
      "Epoch 11, CIFAR-10 Batch 3:  loss 0.305080 valid accu. 0.547400\n",
      "Epoch 11, CIFAR-10 Batch 4:  loss 0.298229 valid accu. 0.592400\n",
      "Epoch 11, CIFAR-10 Batch 5:  loss 0.372655 valid accu. 0.593200\n",
      "Epoch 12, CIFAR-10 Batch 1:  loss 0.342107 valid accu. 0.603000\n",
      "Epoch 12, CIFAR-10 Batch 2:  loss 0.240840 valid accu. 0.608000\n",
      "Epoch 12, CIFAR-10 Batch 3:  loss 0.255789 valid accu. 0.594200\n",
      "Epoch 12, CIFAR-10 Batch 4:  loss 0.284333 valid accu. 0.588400\n",
      "Epoch 12, CIFAR-10 Batch 5:  loss 0.313464 valid accu. 0.593000\n",
      "Epoch 13, CIFAR-10 Batch 1:  loss 0.314113 valid accu. 0.589200\n",
      "Epoch 13, CIFAR-10 Batch 2:  loss 0.210436 valid accu. 0.606800\n",
      "Epoch 13, CIFAR-10 Batch 3:  loss 0.195506 valid accu. 0.593000\n",
      "Epoch 13, CIFAR-10 Batch 4:  loss 0.237299 valid accu. 0.594600\n",
      "Epoch 13, CIFAR-10 Batch 5:  loss 0.303680 valid accu. 0.601000\n",
      "Epoch 14, CIFAR-10 Batch 1:  loss 0.319553 valid accu. 0.592000\n",
      "Epoch 14, CIFAR-10 Batch 2:  loss 0.222405 valid accu. 0.605600\n",
      "Epoch 14, CIFAR-10 Batch 3:  loss 0.265333 valid accu. 0.563000\n",
      "Epoch 14, CIFAR-10 Batch 4:  loss 0.193945 valid accu. 0.590200\n",
      "Epoch 14, CIFAR-10 Batch 5:  loss 0.257923 valid accu. 0.600800\n",
      "Epoch 15, CIFAR-10 Batch 1:  loss 0.245327 valid accu. 0.605200\n",
      "Epoch 15, CIFAR-10 Batch 2:  loss 0.185072 valid accu. 0.603800\n",
      "Epoch 15, CIFAR-10 Batch 3:  loss 0.217909 valid accu. 0.559200\n",
      "Epoch 15, CIFAR-10 Batch 4:  loss 0.209708 valid accu. 0.561800\n",
      "Epoch 15, CIFAR-10 Batch 5:  loss 0.254426 valid accu. 0.588000\n",
      "Epoch 16, CIFAR-10 Batch 1:  loss 0.280391 valid accu. 0.605200\n",
      "Epoch 16, CIFAR-10 Batch 2:  loss 0.134640 valid accu. 0.594400\n",
      "Epoch 16, CIFAR-10 Batch 3:  loss 0.158902 valid accu. 0.597000\n",
      "Epoch 16, CIFAR-10 Batch 4:  loss 0.219780 valid accu. 0.594200\n",
      "Epoch 16, CIFAR-10 Batch 5:  loss 0.248910 valid accu. 0.580400\n",
      "Epoch 17, CIFAR-10 Batch 1:  loss 0.257267 valid accu. 0.589000\n",
      "Epoch 17, CIFAR-10 Batch 2:  loss 0.134180 valid accu. 0.538800\n",
      "Epoch 17, CIFAR-10 Batch 3:  loss 0.186263 valid accu. 0.600200\n",
      "Epoch 17, CIFAR-10 Batch 4:  loss 0.218197 valid accu. 0.586000\n",
      "Epoch 17, CIFAR-10 Batch 5:  loss 0.282300 valid accu. 0.575800\n",
      "Epoch 18, CIFAR-10 Batch 1:  loss 0.214791 valid accu. 0.597400\n",
      "Epoch 18, CIFAR-10 Batch 2:  loss 0.103552 valid accu. 0.581800\n",
      "Epoch 18, CIFAR-10 Batch 3:  loss 0.136418 valid accu. 0.628000\n",
      "Epoch 18, CIFAR-10 Batch 4:  loss 0.199665 valid accu. 0.587600\n",
      "Epoch 18, CIFAR-10 Batch 5:  loss 0.225906 valid accu. 0.580400\n",
      "Epoch 19, CIFAR-10 Batch 1:  loss 0.264732 valid accu. 0.581800\n",
      "Epoch 19, CIFAR-10 Batch 2:  loss 0.152324 valid accu. 0.555600\n",
      "Epoch 19, CIFAR-10 Batch 3:  loss 0.198678 valid accu. 0.556800\n",
      "Epoch 19, CIFAR-10 Batch 4:  loss 0.166712 valid accu. 0.603200\n",
      "Epoch 19, CIFAR-10 Batch 5:  loss 0.243405 valid accu. 0.576600\n",
      "Epoch 20, CIFAR-10 Batch 1:  loss 0.215110 valid accu. 0.619400\n",
      "Epoch 20, CIFAR-10 Batch 2:  loss 0.146099 valid accu. 0.597000\n",
      "Epoch 20, CIFAR-10 Batch 3:  loss 0.189165 valid accu. 0.561400\n",
      "Epoch 20, CIFAR-10 Batch 4:  loss 0.139026 valid accu. 0.628600\n",
      "Epoch 20, CIFAR-10 Batch 5:  loss 0.243548 valid accu. 0.539200\n"
     ]
    }
   ],
   "source": [
    "\"\"\"\n",
    "DON'T MODIFY ANYTHING IN THIS CELL\n",
    "\"\"\"\n",
    "save_model_path = './image_classification'\n",
    "\n",
    "print('Training...')\n",
    "with tf.Session() as sess:\n",
    "    # Initializing the variables\n",
    "    sess.run(tf.global_variables_initializer())\n",
    "    \n",
    "    # Training cycle\n",
    "    for epoch in range(epochs):\n",
    "        # Loop over all batches\n",
    "        n_batches = 5\n",
    "        for batch_i in range(1, n_batches + 1):\n",
    "            for batch_features, batch_labels in helper.load_preprocess_training_batch(batch_i, batch_size):\n",
    "                train_neural_network(sess, optimizer, keep_probability, batch_features, batch_labels)\n",
    "            print('Epoch {:>2}, CIFAR-10 Batch {}:  '.format(epoch + 1, batch_i), end='')\n",
    "            print_stats(sess, batch_features, batch_labels, cost, accuracy)\n",
    "            \n",
    "    # Save Model\n",
    "    saver = tf.train.Saver()\n",
    "    save_path = saver.save(sess, save_model_path)"
   ]
  },
  {
   "cell_type": "markdown",
   "metadata": {},
   "source": [
    "# Checkpoint\n",
    "The model has been saved to disk.\n",
    "## Test Model\n",
    "Test your model against the test dataset.  This will be your final accuracy. You should have an accuracy greater than 50%. If you don't, keep tweaking the model architecture and parameters."
   ]
  },
  {
   "cell_type": "code",
   "execution_count": 213,
   "metadata": {},
   "outputs": [
    {
     "name": "stdout",
     "output_type": "stream",
     "text": [
      "INFO:tensorflow:Restoring parameters from ./image_classification\n",
      "Testing Accuracy: 0.54677734375\n",
      "\n"
     ]
    },
    {
     "data": {
      "image/png": "[encoded data removed]",
      "text/plain": [
       "<matplotlib.figure.Figure at 0x84019ae278>"
      ]
     },
     "metadata": {
      "image/png": {
       "height": 319,
       "width": 355
      }
     },
     "output_type": "display_data"
    }
   ],
   "source": [
    "\"\"\"\n",
    "DON'T MODIFY ANYTHING IN THIS CELL\n",
    "\"\"\"\n",
    "%matplotlib inline\n",
    "%config InlineBackend.figure_format = 'retina'\n",
    "\n",
    "import tensorflow as tf\n",
    "import pickle\n",
    "import helper\n",
    "import random\n",
    "\n",
    "# Set batch size if not already set\n",
    "try:\n",
    "    if batch_size:\n",
    "        pass\n",
    "except NameError:\n",
    "    batch_size = 64\n",
    "\n",
    "save_model_path = './image_classification'\n",
    "n_samples = 4\n",
    "top_n_predictions = 3\n",
    "\n",
    "def test_model():\n",
    "    \"\"\"\n",
    "    Test the saved model against the test dataset\n",
    "    \"\"\"\n",
    "\n",
    "    test_features, test_labels = pickle.load(open('preprocess_test.p', mode='rb'))\n",
    "    loaded_graph = tf.Graph()\n",
    "\n",
    "    with tf.Session(graph=loaded_graph) as sess:\n",
    "        # Load model\n",
    "        loader = tf.train.import_meta_graph(save_model_path + '.meta')\n",
    "        loader.restore(sess, save_model_path)\n",
    "\n",
    "        # Get Tensors from loaded model\n",
    "        loaded_x = loaded_graph.get_tensor_by_name('x:0')\n",
    "        loaded_y = loaded_graph.get_tensor_by_name('y:0')\n",
    "        loaded_keep_prob = loaded_graph.get_tensor_by_name('keep_prob:0')\n",
    "        loaded_logits = loaded_graph.get_tensor_by_name('logits:0')\n",
    "        loaded_acc = loaded_graph.get_tensor_by_name('accuracy:0')\n",
    "        \n",
    "        # Get accuracy in batches for memory limitations\n",
    "        test_batch_acc_total = 0\n",
    "        test_batch_count = 0\n",
    "        \n",
    "        for test_feature_batch, test_label_batch in helper.batch_features_labels(test_features, test_labels, batch_size):\n",
    "            test_batch_acc_total += sess.run(\n",
    "                loaded_acc,\n",
    "                feed_dict={loaded_x: test_feature_batch, loaded_y: test_label_batch, loaded_keep_prob: 1.0})\n",
    "            test_batch_count += 1\n",
    "\n",
    "        print('Testing Accuracy: {}\\n'.format(test_batch_acc_total/test_batch_count))\n",
    "\n",
    "        # Print Random Samples\n",
    "        random_test_features, random_test_labels = tuple(zip(*random.sample(list(zip(test_features, test_labels)), n_samples)))\n",
    "        random_test_predictions = sess.run(\n",
    "            tf.nn.top_k(tf.nn.softmax(loaded_logits), top_n_predictions),\n",
    "            feed_dict={loaded_x: random_test_features, loaded_y: random_test_labels, loaded_keep_prob: 1.0})\n",
    "        helper.display_image_predictions(random_test_features, random_test_labels, random_test_predictions)\n",
    "\n",
    "\n",
    "test_model()"
   ]
  },
  {
   "cell_type": "markdown",
   "metadata": {},
   "source": [
    "## Why 50-80% Accuracy?\n",
    "You might be wondering why you can't get an accuracy any higher. First things first, 50% isn't bad for a simple CNN.  Pure guessing would get you 10% accuracy. However, you might notice people are getting scores [well above 80%](http://rodrigob.github.io/are_we_there_yet/build/classification_datasets_results.html#43494641522d3130).  That's because we haven't taught you all there is to know about neural networks. We still need to cover a few more techniques.\n",
    "## Submitting This Project\n",
    "When submitting this project, make sure to run all the cells before saving the notebook.  Save the notebook file as \"dlnd_image_classification.ipynb\" and save it as a HTML file under \"File\" -> \"Download as\".  Include the \"helper.py\" and \"problem_unittests.py\" files in your submission."
   ]
  }
 ],
 "metadata": {
  "kernelspec": {
   "display_name": "Python 3",
   "language": "python",
   "name": "python3"
  },
  "language_info": {
   "codemirror_mode": {
    "name": "ipython",
    "version": 3
   },
   "file_extension": ".py",
   "mimetype": "text/x-python",
   "name": "python",
   "nbconvert_exporter": "python",
   "pygments_lexer": "ipython3",
   "version": "3.6.2"
  }
 },
 "nbformat": 4,
 "nbformat_minor": 1
}
