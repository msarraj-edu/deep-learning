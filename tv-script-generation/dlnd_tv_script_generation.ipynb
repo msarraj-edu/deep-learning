{
 "cells": [
  {
   "cell_type": "markdown",
   "metadata": {
    "deletable": true,
    "editable": true
   },
   "source": [
    "# TV Script Generation\n",
    "In this project, you'll generate your own [Simpsons](https://en.wikipedia.org/wiki/The_Simpsons) TV scripts using RNNs.  You'll be using part of the [Simpsons dataset](https://www.kaggle.com/wcukierski/the-simpsons-by-the-data) of scripts from 27 seasons.  The Neural Network you'll build will generate a new TV script for a scene at [Moe's Tavern](https://simpsonswiki.com/wiki/Moe's_Tavern).\n",
    "## Get the Data\n",
    "The data is already provided for you.  You'll be using a subset of the original dataset.  It consists of only the scenes in Moe's Tavern.  This doesn't include other versions of the tavern, like \"Moe's Cavern\", \"Flaming Moe's\", \"Uncle Moe's Family Feed-Bag\", etc.."
   ]
  },
  {
   "cell_type": "code",
   "execution_count": 1,
   "metadata": {
    "collapsed": true,
    "deletable": true,
    "editable": true
   },
   "outputs": [],
   "source": [
    "\"\"\"\n",
    "DON'T MODIFY ANYTHING IN THIS CELL\n",
    "\"\"\"\n",
    "import helper\n",
    "\n",
    "data_dir = './data/simpsons/moes_tavern_lines.txt'\n",
    "text = helper.load_data(data_dir)\n",
    "# Ignore notice, since we don't use it for analysing the data\n",
    "text = text[81:]"
   ]
  },
  {
   "cell_type": "markdown",
   "metadata": {
    "deletable": true,
    "editable": true
   },
   "source": [
    "## Explore the Data\n",
    "Play around with `view_sentence_range` to view different parts of the data."
   ]
  },
  {
   "cell_type": "code",
   "execution_count": 2,
   "metadata": {
    "collapsed": false,
    "deletable": true,
    "editable": true
   },
   "outputs": [
    {
     "name": "stdout",
     "output_type": "stream",
     "text": [
      "Dataset Stats\n",
      "Roughly the number of unique words: 11492\n",
      "Number of scenes: 262\n",
      "Average number of sentences in each scene: 15.251908396946565\n",
      "Number of lines: 4258\n",
      "Average number of words in each line: 11.50164396430249\n",
      "\n",
      "The sentences 0 to 10:\n",
      "\n",
      "Moe_Szyslak: (INTO PHONE) Moe's Tavern. Where the elite meet to drink.\n",
      "Bart_Simpson: Eh, yeah, hello, is Mike there? Last name, Rotch.\n",
      "Moe_Szyslak: (INTO PHONE) Hold on, I'll check. (TO BARFLIES) Mike Rotch. Mike Rotch. Hey, has anybody seen Mike Rotch, lately?\n",
      "Moe_Szyslak: (INTO PHONE) Listen you little puke. One of these days I'm gonna catch you, and I'm gonna carve my name on your back with an ice pick.\n",
      "Moe_Szyslak: What's the matter Homer? You're not your normal effervescent self.\n",
      "Homer_Simpson: I got my problems, Moe. Give me another one.\n",
      "Moe_Szyslak: Homer, hey, you should not drink to forget your problems.\n",
      "Barney_Gumble: Yeah, you should only drink to enhance your social skills.\n",
      "\n"
     ]
    }
   ],
   "source": [
    "view_sentence_range = (0, 10)\n",
    "\n",
    "\"\"\"\n",
    "DON'T MODIFY ANYTHING IN THIS CELL\n",
    "\"\"\"\n",
    "import numpy as np\n",
    "\n",
    "print('Dataset Stats')\n",
    "print('Roughly the number of unique words: {}'.format(len({word: None for word in text.split()})))\n",
    "scenes = text.split('\\n\\n')\n",
    "print('Number of scenes: {}'.format(len(scenes)))\n",
    "sentence_count_scene = [scene.count('\\n') for scene in scenes]\n",
    "print('Average number of sentences in each scene: {}'.format(np.average(sentence_count_scene)))\n",
    "\n",
    "sentences = [sentence for scene in scenes for sentence in scene.split('\\n')]\n",
    "print('Number of lines: {}'.format(len(sentences)))\n",
    "word_count_sentence = [len(sentence.split()) for sentence in sentences]\n",
    "print('Average number of words in each line: {}'.format(np.average(word_count_sentence)))\n",
    "\n",
    "print()\n",
    "print('The sentences {} to {}:'.format(*view_sentence_range))\n",
    "print('\\n'.join(text.split('\\n')[view_sentence_range[0]:view_sentence_range[1]]))"
   ]
  },
  {
   "cell_type": "markdown",
   "metadata": {
    "deletable": true,
    "editable": true
   },
   "source": [
    "## Implement Preprocessing Functions\n",
    "The first thing to do to any dataset is preprocessing.  Implement the following preprocessing functions below:\n",
    "- Lookup Table\n",
    "- Tokenize Punctuation\n",
    "\n",
    "### Lookup Table\n",
    "To create a word embedding, you first need to transform the words to ids.  In this function, create two dictionaries:\n",
    "- Dictionary to go from the words to an id, we'll call `vocab_to_int`\n",
    "- Dictionary to go from the id to word, we'll call `int_to_vocab`\n",
    "\n",
    "Return these dictionaries in the following tuple `(vocab_to_int, int_to_vocab)`"
   ]
  },
  {
   "cell_type": "code",
   "execution_count": 5,
   "metadata": {
    "collapsed": false,
    "deletable": true,
    "editable": true
   },
   "outputs": [
    {
     "name": "stdout",
     "output_type": "stream",
     "text": [
      "Tests Passed\n"
     ]
    }
   ],
   "source": [
    "import numpy as np\n",
    "import problem_unittests as tests\n",
    "\n",
    "def create_lookup_tables(text):\n",
    "    \"\"\"\n",
    "    Create lookup tables for vocabulary\n",
    "    :param text: The text of tv scripts split into words\n",
    "    :return: A tuple of dicts (vocab_to_int, int_to_vocab)\n",
    "    \"\"\"\n",
    "    # TODO: Implement Function\n",
    "    vocab_to_int = {}\n",
    "    int_to_vocab = {}\n",
    "    for i,word in enumerate(set(text)):\n",
    "        vocab_to_int[word]=i\n",
    "        int_to_vocab[i]=word\n",
    "    return vocab_to_int, int_to_vocab\n",
    "\n",
    "\n",
    "\"\"\"\n",
    "DON'T MODIFY ANYTHING IN THIS CELL THAT IS BELOW THIS LINE\n",
    "\"\"\"\n",
    "tests.test_create_lookup_tables(create_lookup_tables)"
   ]
  },
  {
   "cell_type": "markdown",
   "metadata": {
    "deletable": true,
    "editable": true
   },
   "source": [
    "### Tokenize Punctuation\n",
    "We'll be splitting the script into a word array using spaces as delimiters.  However, punctuations like periods and exclamation marks make it hard for the neural network to distinguish between the word \"bye\" and \"bye!\".\n",
    "\n",
    "Implement the function `token_lookup` to return a dict that will be used to tokenize symbols like \"!\" into \"||Exclamation_Mark||\".  Create a dictionary for the following symbols where the symbol is the key and value is the token:\n",
    "- Period ( . )\n",
    "- Comma ( , )\n",
    "- Quotation Mark ( \" )\n",
    "- Semicolon ( ; )\n",
    "- Exclamation mark ( ! )\n",
    "- Question mark ( ? )\n",
    "- Left Parentheses ( ( )\n",
    "- Right Parentheses ( ) )\n",
    "- Dash ( -- )\n",
    "- Return ( \\n )\n",
    "\n",
    "This dictionary will be used to token the symbols and add the delimiter (space) around it.  This separates the symbols as it's own word, making it easier for the neural network to predict on the next word. Make sure you don't use a token that could be confused as a word. Instead of using the token \"dash\", try using something like \"||dash||\"."
   ]
  },
  {
   "cell_type": "code",
   "execution_count": 7,
   "metadata": {
    "collapsed": false,
    "deletable": true,
    "editable": true
   },
   "outputs": [
    {
     "name": "stdout",
     "output_type": "stream",
     "text": [
      "Tests Passed\n"
     ]
    }
   ],
   "source": [
    "def token_lookup():\n",
    "    \"\"\"\n",
    "    Generate a dict to turn punctuation into a token.\n",
    "    :return: Tokenize dictionary where the key is the punctuation and the value is the token\n",
    "    \"\"\"\n",
    "    # TODO: Implement Function\n",
    "    dict = {'.':'||Period||',\n",
    "           ',':'||Comma||',\n",
    "           '\"':'||QuotationMark||',\n",
    "           ';':'||Semicolon||',\n",
    "           '!':'||Exclamationmark||',\n",
    "           '?':'||Questionmark||',\n",
    "           '(':'||LeftParentheses||',\n",
    "           ')':'||RightParentheses||',\n",
    "           '--':'||Dash||',\n",
    "           '\\n':'||Return||'}\n",
    "    return dict\n",
    "\n",
    "\"\"\"\n",
    "DON'T MODIFY ANYTHING IN THIS CELL THAT IS BELOW THIS LINE\n",
    "\"\"\"\n",
    "tests.test_tokenize(token_lookup)"
   ]
  },
  {
   "cell_type": "markdown",
   "metadata": {
    "deletable": true,
    "editable": true
   },
   "source": [
    "## Preprocess all the data and save it\n",
    "Running the code cell below will preprocess all the data and save it to file."
   ]
  },
  {
   "cell_type": "code",
   "execution_count": 8,
   "metadata": {
    "collapsed": true,
    "deletable": true,
    "editable": true
   },
   "outputs": [],
   "source": [
    "\"\"\"\n",
    "DON'T MODIFY ANYTHING IN THIS CELL\n",
    "\"\"\"\n",
    "# Preprocess Training, Validation, and Testing Data\n",
    "helper.preprocess_and_save_data(data_dir, token_lookup, create_lookup_tables)"
   ]
  },
  {
   "cell_type": "markdown",
   "metadata": {
    "deletable": true,
    "editable": true
   },
   "source": [
    "# Check Point\n",
    "This is your first checkpoint. If you ever decide to come back to this notebook or have to restart the notebook, you can start from here. The preprocessed data has been saved to disk."
   ]
  },
  {
   "cell_type": "code",
   "execution_count": 1,
   "metadata": {
    "collapsed": false,
    "deletable": true,
    "editable": true
   },
   "outputs": [],
   "source": [
    "\"\"\"\n",
    "DON'T MODIFY ANYTHING IN THIS CELL\n",
    "\"\"\"\n",
    "import helper\n",
    "import numpy as np\n",
    "import problem_unittests as tests\n",
    "\n",
    "int_text, vocab_to_int, int_to_vocab, token_dict = helper.load_preprocess()"
   ]
  },
  {
   "cell_type": "markdown",
   "metadata": {
    "deletable": true,
    "editable": true
   },
   "source": [
    "## Build the Neural Network\n",
    "You'll build the components necessary to build a RNN by implementing the following functions below:\n",
    "- get_inputs\n",
    "- get_init_cell\n",
    "- get_embed\n",
    "- build_rnn\n",
    "- build_nn\n",
    "- get_batches\n",
    "\n",
    "### Check the Version of TensorFlow and Access to GPU"
   ]
  },
  {
   "cell_type": "code",
   "execution_count": 2,
   "metadata": {
    "collapsed": false,
    "deletable": true,
    "editable": true
   },
   "outputs": [
    {
     "name": "stdout",
     "output_type": "stream",
     "text": [
      "TensorFlow Version: 1.2.0\n"
     ]
    },
    {
     "name": "stderr",
     "output_type": "stream",
     "text": [
      "c:\\anaconda2\\envs\\dlnd-tv-script\\lib\\site-packages\\ipykernel\\__main__.py:14: UserWarning: No GPU found. Please use a GPU to train your neural network.\n"
     ]
    }
   ],
   "source": [
    "\"\"\"\n",
    "DON'T MODIFY ANYTHING IN THIS CELL\n",
    "\"\"\"\n",
    "from distutils.version import LooseVersion\n",
    "import warnings\n",
    "import tensorflow as tf\n",
    "\n",
    "# Check TensorFlow Version\n",
    "assert LooseVersion(tf.__version__) >= LooseVersion('1.0'), 'Please use TensorFlow version 1.0 or newer'\n",
    "print('TensorFlow Version: {}'.format(tf.__version__))\n",
    "\n",
    "# Check for a GPU\n",
    "if not tf.test.gpu_device_name():\n",
    "    warnings.warn('No GPU found. Please use a GPU to train your neural network.')\n",
    "else:\n",
    "    print('Default GPU Device: {}'.format(tf.test.gpu_device_name()))"
   ]
  },
  {
   "cell_type": "markdown",
   "metadata": {
    "deletable": true,
    "editable": true
   },
   "source": [
    "### Input\n",
    "Implement the `get_inputs()` function to create TF Placeholders for the Neural Network.  It should create the following placeholders:\n",
    "- Input text placeholder named \"input\" using the [TF Placeholder](https://www.tensorflow.org/api_docs/python/tf/placeholder) `name` parameter.\n",
    "- Targets placeholder\n",
    "- Learning Rate placeholder\n",
    "\n",
    "Return the placeholders in the following tuple `(Input, Targets, LearningRate)`"
   ]
  },
  {
   "cell_type": "code",
   "execution_count": 3,
   "metadata": {
    "collapsed": false,
    "deletable": true,
    "editable": true
   },
   "outputs": [
    {
     "name": "stdout",
     "output_type": "stream",
     "text": [
      "(<tf.Tensor 'input:0' shape=(?, ?) dtype=int32>, <tf.Tensor 'target:0' shape=(?, ?) dtype=int32>, <tf.Tensor 'learningRate:0' shape=<unknown> dtype=float32>)\n",
      "Tests Passed\n"
     ]
    }
   ],
   "source": [
    "def get_inputs():\n",
    "    \"\"\"\n",
    "    Create TF Placeholders for input, targets, and learning rate.\n",
    "    :return: Tuple (input, targets, learning rate)\n",
    "    \"\"\"\n",
    "    # TODO: Implement Function\n",
    "    Input = tf.placeholder(tf.int32,\n",
    "                           shape=(None,None),\n",
    "                           name=\"input\")\n",
    "    Targets = tf.placeholder(tf.int32,\n",
    "                             shape=(None,None),\n",
    "                            name=\"target\")\n",
    "    LearningRate = tf.placeholder(tf.float32,\n",
    "                                  shape=None,\n",
    "                                 name=\"learningRate\")\n",
    "    return Input, Targets, LearningRate\n",
    "\n",
    "\n",
    "\"\"\"\n",
    "DON'T MODIFY ANYTHING IN THIS CELL THAT IS BELOW THIS LINE\n",
    "\"\"\"\n",
    "print(get_inputs())\n",
    "tests.test_get_inputs(get_inputs)"
   ]
  },
  {
   "cell_type": "markdown",
   "metadata": {
    "deletable": true,
    "editable": true
   },
   "source": [
    "### Build RNN Cell and Initialize\n",
    "Stack one or more [`BasicLSTMCells`](https://www.tensorflow.org/api_docs/python/tf/contrib/rnn/BasicLSTMCell) in a [`MultiRNNCell`](https://www.tensorflow.org/api_docs/python/tf/contrib/rnn/MultiRNNCell).\n",
    "- The Rnn size should be set using `rnn_size`\n",
    "- Initalize Cell State using the MultiRNNCell's [`zero_state()`](https://www.tensorflow.org/api_docs/python/tf/contrib/rnn/MultiRNNCell#zero_state) function\n",
    "    - Apply the name \"initial_state\" to the initial state using [`tf.identity()`](https://www.tensorflow.org/api_docs/python/tf/identity)\n",
    "\n",
    "Return the cell and initial state in the following tuple `(Cell, InitialState)`"
   ]
  },
  {
   "cell_type": "code",
   "execution_count": 4,
   "metadata": {
    "collapsed": false,
    "deletable": true,
    "editable": true
   },
   "outputs": [
    {
     "name": "stdout",
     "output_type": "stream",
     "text": [
      "Tests Passed\n"
     ]
    }
   ],
   "source": [
    "def get_init_cell(batch_size, rnn_size):\n",
    "    \"\"\"\n",
    "    Create an RNN Cell and initialize it.\n",
    "    :param batch_size: Size of batches\n",
    "    :param rnn_size: Size of RNNs\n",
    "    :return: Tuple (cell, initialize state)\n",
    "    \"\"\"\n",
    "    # TODO: Implement Function\n",
    "    num_of_layers = 2\n",
    "    \n",
    "    cell = tf.contrib.rnn.BasicLSTMCell(rnn_size,\n",
    "    state_is_tuple=True)    \n",
    "    cell = tf.contrib.rnn.MultiRNNCell([cell]*num_of_layers)\n",
    "    initial_state = tf.identity(cell.zero_state(batch_size,dtype=tf.float32),name=\"initial_state\")\n",
    "    return cell, initial_state\n",
    "\n",
    "\n",
    "\"\"\"\n",
    "DON'T MODIFY ANYTHING IN THIS CELL THAT IS BELOW THIS LINE\n",
    "\"\"\"\n",
    "tests.test_get_init_cell(get_init_cell)"
   ]
  },
  {
   "cell_type": "markdown",
   "metadata": {
    "deletable": true,
    "editable": true
   },
   "source": [
    "### Word Embedding\n",
    "Apply embedding to `input_data` using TensorFlow.  Return the embedded sequence."
   ]
  },
  {
   "cell_type": "code",
   "execution_count": 5,
   "metadata": {
    "collapsed": false,
    "deletable": true,
    "editable": true
   },
   "outputs": [
    {
     "name": "stdout",
     "output_type": "stream",
     "text": [
      "Tests Passed\n"
     ]
    }
   ],
   "source": [
    "def get_embed(input_data, vocab_size, embed_dim):\n",
    "    \"\"\"\n",
    "    Create embedding for <input_data>.\n",
    "    :param input_data: TF placeholder for text input.\n",
    "    :param vocab_size: Number of words in vocabulary.\n",
    "    :param embed_dim: Number of embedding dimensions\n",
    "    :return: Embedded input.\n",
    "    \"\"\"\n",
    "    # TODO: Implement Function\n",
    "    n_vocab = vocab_size\n",
    "    n_embedding = embed_dim # Number of embedding features \n",
    "   \n",
    "    embedding = tf.Variable(tf.random_uniform((n_vocab, n_embedding), -1, 1))\n",
    "    embed = tf.nn.embedding_lookup(embedding, input_data)\n",
    "    return embed\n",
    "\n",
    "\n",
    "\"\"\"\n",
    "DON'T MODIFY ANYTHING IN THIS CELL THAT IS BELOW THIS LINE\n",
    "\"\"\"\n",
    "tests.test_get_embed(get_embed)"
   ]
  },
  {
   "cell_type": "markdown",
   "metadata": {
    "deletable": true,
    "editable": true
   },
   "source": [
    "### Build RNN\n",
    "You created a RNN Cell in the `get_init_cell()` function.  Time to use the cell to create a RNN.\n",
    "- Build the RNN using the [`tf.nn.dynamic_rnn()`](https://www.tensorflow.org/api_docs/python/tf/nn/dynamic_rnn)\n",
    " - Apply the name \"final_state\" to the final state using [`tf.identity()`](https://www.tensorflow.org/api_docs/python/tf/identity)\n",
    "\n",
    "Return the outputs and final_state state in the following tuple `(Outputs, FinalState)` "
   ]
  },
  {
   "cell_type": "code",
   "execution_count": 6,
   "metadata": {
    "collapsed": false,
    "deletable": true,
    "editable": true
   },
   "outputs": [
    {
     "name": "stdout",
     "output_type": "stream",
     "text": [
      "Tests Passed\n"
     ]
    }
   ],
   "source": [
    "def build_rnn(cell, inputs):\n",
    "    \"\"\"\n",
    "    Create a RNN using a RNN Cell\n",
    "    :param cell: RNN Cell\n",
    "    :param inputs: Input text data\n",
    "    :return: Tuple (Outputs, Final State)\n",
    "    \"\"\"\n",
    "    # TODO: Implement Function\n",
    "    \n",
    "    \n",
    "    cell, final_state = tf.nn.dynamic_rnn(cell, inputs, dtype=tf.float32)\n",
    "    FinalState = tf.identity(final_state,name=\"final_state\")\n",
    "    return cell, FinalState\n",
    "    \n",
    "\n",
    "\n",
    "\"\"\"\n",
    "DON'T MODIFY ANYTHING IN THIS CELL THAT IS BELOW THIS LINE\n",
    "\"\"\"\n",
    "tests.test_build_rnn(build_rnn)"
   ]
  },
  {
   "cell_type": "markdown",
   "metadata": {
    "deletable": true,
    "editable": true
   },
   "source": [
    "### Build the Neural Network\n",
    "Apply the functions you implemented above to:\n",
    "- Apply embedding to `input_data` using your `get_embed(input_data, vocab_size, embed_dim)` function.\n",
    "- Build RNN using `cell` and your `build_rnn(cell, inputs)` function.\n",
    "- Apply a fully connected layer with a linear activation and `vocab_size` as the number of outputs.\n",
    "\n",
    "Return the logits and final state in the following tuple (Logits, FinalState) "
   ]
  },
  {
   "cell_type": "code",
   "execution_count": 7,
   "metadata": {
    "collapsed": false,
    "deletable": true,
    "editable": true
   },
   "outputs": [
    {
     "name": "stdout",
     "output_type": "stream",
     "text": [
      "Tests Passed\n"
     ]
    }
   ],
   "source": [
    "def build_nn(cell, rnn_size, input_data, vocab_size, embed_dim):\n",
    "    \"\"\"\n",
    "    Build part of the neural network\n",
    "    :param cell: RNN cell\n",
    "    :param rnn_size: Size of rnns\n",
    "    :param input_data: Input data\n",
    "    :param vocab_size: Vocabulary size\n",
    "    :param embed_dim: Number of embedding dimensions\n",
    "    :return: Tuple (Logits, FinalState)\n",
    "    \"\"\"\n",
    "    # TODO: Implement Function\n",
    "    embedding = get_embed(input_data, vocab_size, rnn_size)\n",
    "    rnn,final_state = build_rnn(cell, embedding)\n",
    "    # Following line was taken from forum as a shortcut to implementing a fully connected layer\n",
    "    logits = tf.contrib.layers.fully_connected(rnn, vocab_size, activation_fn= None)\n",
    "    return logits, final_state\n",
    "\n",
    "\n",
    "\"\"\"\n",
    "DON'T MODIFY ANYTHING IN THIS CELL THAT IS BELOW THIS LINE\n",
    "\"\"\"\n",
    "tests.test_build_nn(build_nn)"
   ]
  },
  {
   "cell_type": "markdown",
   "metadata": {
    "deletable": true,
    "editable": true
   },
   "source": [
    "### Batches\n",
    "Implement `get_batches` to create batches of input and targets using `int_text`.  The batches should be a Numpy array with the shape `(number of batches, 2, batch size, sequence length)`. Each batch contains two elements:\n",
    "- The first element is a single batch of **input** with the shape `[batch size, sequence length]`\n",
    "- The second element is a single batch of **targets** with the shape `[batch size, sequence length]`\n",
    "\n",
    "If you can't fill the last batch with enough data, drop the last batch.\n",
    "\n",
    "For exmple, `get_batches([1, 2, 3, 4, 5, 6, 7, 8, 9, 10, 11, 12, 13, 14, 15, 16, 17, 18, 19, 20], 3, 2)` would return a Numpy array of the following:\n",
    "```\n",
    "[\n",
    "  # First Batch\n",
    "  [\n",
    "    # Batch of Input\n",
    "    [[ 1  2], [ 7  8], [13 14]]\n",
    "    # Batch of targets\n",
    "    [[ 2  3], [ 8  9], [14 15]]\n",
    "  ]\n",
    "\n",
    "  # Second Batch\n",
    "  [\n",
    "    # Batch of Input\n",
    "    [[ 3  4], [ 9 10], [15 16]]\n",
    "    # Batch of targets\n",
    "    [[ 4  5], [10 11], [16 17]]\n",
    "  ]\n",
    "\n",
    "  # Third Batch\n",
    "  [\n",
    "    # Batch of Input\n",
    "    [[ 5  6], [11 12], [17 18]]\n",
    "    # Batch of targets\n",
    "    [[ 6  7], [12 13], [18  1]]\n",
    "  ]\n",
    "]\n",
    "```\n",
    "\n",
    "Notice that the last target value in the last batch is the first input value of the first batch. In this case, `1`. This is a common technique used when creating sequence batches, although it is rather unintuitive."
   ]
  },
  {
   "cell_type": "code",
   "execution_count": 8,
   "metadata": {
    "collapsed": false,
    "deletable": true,
    "editable": true
   },
   "outputs": [
    {
     "name": "stdout",
     "output_type": "stream",
     "text": [
      "Tests Passed\n"
     ]
    }
   ],
   "source": [
    "def get_batches(int_text, batch_size, seq_length):\n",
    "    \"\"\"\n",
    "    Return batches of input and target\n",
    "    :param int_text: Text with the words replaced by their ids\n",
    "    :param batch_size: The size of batch\n",
    "    :param seq_length: The length of sequence\n",
    "    :return: Batches as a Numpy array\n",
    "    \"\"\"\n",
    "    # TODO: Implement Function\n",
    "    # Following code was mainly taken from forums (please refer to submission comment)\n",
    "    n_batches = len(int_text) // (batch_size * seq_length)\n",
    "\n",
    "    # Drop the last few characters to make only full batches\n",
    "    xdata = np.array(int_text[: n_batches * batch_size * seq_length])\n",
    "    ydata = np.array(int_text[1: n_batches * batch_size * seq_length + 1])\n",
    "\n",
    "    x_batches = np.split(xdata.reshape(batch_size, -1), n_batches, 1)\n",
    "    y_batches = np.split(ydata.reshape(batch_size, -1), n_batches, 1)\n",
    "    \n",
    "    ydata[-1] = xdata[0]\n",
    "    \n",
    "    return np.array(list(zip(x_batches, y_batches)))\n",
    "\n",
    "\n",
    "\"\"\"\n",
    "DON'T MODIFY ANYTHING IN THIS CELL THAT IS BELOW THIS LINE\n",
    "\"\"\"\n",
    "tests.test_get_batches(get_batches)"
   ]
  },
  {
   "cell_type": "markdown",
   "metadata": {
    "deletable": true,
    "editable": true
   },
   "source": [
    "## Neural Network Training\n",
    "### Hyperparameters\n",
    "Tune the following parameters:\n",
    "\n",
    "- Set `num_epochs` to the number of epochs.\n",
    "- Set `batch_size` to the batch size.\n",
    "- Set `rnn_size` to the size of the RNNs.\n",
    "- Set `embed_dim` to the size of the embedding.\n",
    "- Set `seq_length` to the length of sequence.\n",
    "- Set `learning_rate` to the learning rate.\n",
    "- Set `show_every_n_batches` to the number of batches the neural network should print progress."
   ]
  },
  {
   "cell_type": "code",
   "execution_count": 32,
   "metadata": {
    "collapsed": true,
    "deletable": true,
    "editable": true
   },
   "outputs": [],
   "source": [
    "# Number of Epochs\n",
    "num_epochs = 200\n",
    "# Batch Size\n",
    "batch_size = 256\n",
    "# RNN Size\n",
    "rnn_size = 128\n",
    "# Embedding Dimension Size\n",
    "embed_dim = 300\n",
    "# Sequence Length\n",
    "seq_length = 25\n",
    "# Learning Rate\n",
    "learning_rate = 0.01\n",
    "# Show stats for every n number of batches\n",
    "show_every_n_batches = 10\n",
    "\n",
    "\"\"\"\n",
    "DON'T MODIFY ANYTHING IN THIS CELL THAT IS BELOW THIS LINE\n",
    "\"\"\"\n",
    "save_dir = './save'"
   ]
  },
  {
   "cell_type": "markdown",
   "metadata": {
    "deletable": true,
    "editable": true
   },
   "source": [
    "### Build the Graph\n",
    "Build the graph using the neural network you implemented."
   ]
  },
  {
   "cell_type": "code",
   "execution_count": 33,
   "metadata": {
    "collapsed": false,
    "deletable": true,
    "editable": true
   },
   "outputs": [],
   "source": [
    "\"\"\"\n",
    "DON'T MODIFY ANYTHING IN THIS CELL\n",
    "\"\"\"\n",
    "from tensorflow.contrib import seq2seq\n",
    "\n",
    "train_graph = tf.Graph()\n",
    "with train_graph.as_default():\n",
    "    vocab_size = len(int_to_vocab)\n",
    "    input_text, targets, lr = get_inputs()\n",
    "    input_data_shape = tf.shape(input_text)\n",
    "    cell, initial_state = get_init_cell(input_data_shape[0], rnn_size)\n",
    "    logits, final_state = build_nn(cell, rnn_size, input_text, vocab_size, embed_dim)\n",
    "\n",
    "    # Probabilities for generating words\n",
    "    probs = tf.nn.softmax(logits, name='probs')\n",
    "\n",
    "    # Loss function\n",
    "    cost = seq2seq.sequence_loss(\n",
    "        logits,\n",
    "        targets,\n",
    "        tf.ones([input_data_shape[0], input_data_shape[1]]))\n",
    "\n",
    "    # Optimizer\n",
    "    optimizer = tf.train.AdamOptimizer(lr)\n",
    "\n",
    "    # Gradient Clipping\n",
    "    gradients = optimizer.compute_gradients(cost)\n",
    "    capped_gradients = [(tf.clip_by_value(grad, -1., 1.), var) for grad, var in gradients if grad is not None]\n",
    "    train_op = optimizer.apply_gradients(capped_gradients)"
   ]
  },
  {
   "cell_type": "markdown",
   "metadata": {
    "deletable": true,
    "editable": true
   },
   "source": [
    "## Train\n",
    "Train the neural network on the preprocessed data.  If you have a hard time getting a good loss, check the [forums](https://discussions.udacity.com/) to see if anyone is having the same problem."
   ]
  },
  {
   "cell_type": "code",
   "execution_count": 34,
   "metadata": {
    "collapsed": false,
    "deletable": true,
    "editable": true
   },
   "outputs": [
    {
     "name": "stdout",
     "output_type": "stream",
     "text": [
      "Epoch   0 Batch    0/10   train_loss = 8.822\n",
      "Epoch   1 Batch    0/10   train_loss = 6.522\n",
      "Epoch   2 Batch    0/10   train_loss = 6.194\n",
      "Epoch   3 Batch    0/10   train_loss = 6.060\n",
      "Epoch   4 Batch    0/10   train_loss = 6.026\n",
      "Epoch   5 Batch    0/10   train_loss = 5.989\n",
      "Epoch   6 Batch    0/10   train_loss = 5.857\n",
      "Epoch   7 Batch    0/10   train_loss = 5.675\n",
      "Epoch   8 Batch    0/10   train_loss = 5.499\n",
      "Epoch   9 Batch    0/10   train_loss = 5.346\n",
      "Epoch  10 Batch    0/10   train_loss = 5.207\n",
      "Epoch  11 Batch    0/10   train_loss = 5.103\n",
      "Epoch  12 Batch    0/10   train_loss = 5.004\n",
      "Epoch  13 Batch    0/10   train_loss = 4.912\n",
      "Epoch  14 Batch    0/10   train_loss = 4.827\n",
      "Epoch  15 Batch    0/10   train_loss = 4.754\n",
      "Epoch  16 Batch    0/10   train_loss = 4.667\n",
      "Epoch  17 Batch    0/10   train_loss = 4.577\n",
      "Epoch  18 Batch    0/10   train_loss = 4.497\n",
      "Epoch  19 Batch    0/10   train_loss = 4.418\n",
      "Epoch  20 Batch    0/10   train_loss = 4.345\n",
      "Epoch  21 Batch    0/10   train_loss = 4.286\n",
      "Epoch  22 Batch    0/10   train_loss = 4.252\n",
      "Epoch  23 Batch    0/10   train_loss = 4.202\n",
      "Epoch  24 Batch    0/10   train_loss = 4.128\n",
      "Epoch  25 Batch    0/10   train_loss = 4.057\n",
      "Epoch  26 Batch    0/10   train_loss = 3.995\n",
      "Epoch  27 Batch    0/10   train_loss = 3.951\n",
      "Epoch  28 Batch    0/10   train_loss = 3.881\n",
      "Epoch  29 Batch    0/10   train_loss = 3.802\n",
      "Epoch  30 Batch    0/10   train_loss = 3.760\n",
      "Epoch  31 Batch    0/10   train_loss = 3.700\n",
      "Epoch  32 Batch    0/10   train_loss = 3.625\n",
      "Epoch  33 Batch    0/10   train_loss = 3.567\n",
      "Epoch  34 Batch    0/10   train_loss = 3.506\n",
      "Epoch  35 Batch    0/10   train_loss = 3.438\n",
      "Epoch  36 Batch    0/10   train_loss = 3.386\n",
      "Epoch  37 Batch    0/10   train_loss = 3.354\n",
      "Epoch  38 Batch    0/10   train_loss = 3.285\n",
      "Epoch  39 Batch    0/10   train_loss = 3.249\n",
      "Epoch  40 Batch    0/10   train_loss = 3.277\n",
      "Epoch  41 Batch    0/10   train_loss = 3.211\n",
      "Epoch  42 Batch    0/10   train_loss = 3.242\n",
      "Epoch  43 Batch    0/10   train_loss = 3.216\n",
      "Epoch  44 Batch    0/10   train_loss = 3.110\n",
      "Epoch  45 Batch    0/10   train_loss = 3.337\n",
      "Epoch  46 Batch    0/10   train_loss = 3.140\n",
      "Epoch  47 Batch    0/10   train_loss = 3.025\n",
      "Epoch  48 Batch    0/10   train_loss = 2.907\n",
      "Epoch  49 Batch    0/10   train_loss = 2.823\n",
      "Epoch  50 Batch    0/10   train_loss = 2.764\n",
      "Epoch  51 Batch    0/10   train_loss = 2.706\n",
      "Epoch  52 Batch    0/10   train_loss = 2.660\n",
      "Epoch  53 Batch    0/10   train_loss = 2.676\n",
      "Epoch  54 Batch    0/10   train_loss = 2.678\n",
      "Epoch  55 Batch    0/10   train_loss = 2.818\n",
      "Epoch  56 Batch    0/10   train_loss = 2.758\n",
      "Epoch  57 Batch    0/10   train_loss = 2.628\n",
      "Epoch  58 Batch    0/10   train_loss = 2.584\n",
      "Epoch  59 Batch    0/10   train_loss = 2.479\n",
      "Epoch  60 Batch    0/10   train_loss = 2.437\n",
      "Epoch  61 Batch    0/10   train_loss = 2.397\n",
      "Epoch  62 Batch    0/10   train_loss = 2.361\n",
      "Epoch  63 Batch    0/10   train_loss = 2.337\n",
      "Epoch  64 Batch    0/10   train_loss = 2.312\n",
      "Epoch  65 Batch    0/10   train_loss = 2.316\n",
      "Epoch  66 Batch    0/10   train_loss = 2.249\n",
      "Epoch  67 Batch    0/10   train_loss = 2.269\n",
      "Epoch  68 Batch    0/10   train_loss = 2.243\n",
      "Epoch  69 Batch    0/10   train_loss = 2.166\n",
      "Epoch  70 Batch    0/10   train_loss = 2.198\n",
      "Epoch  71 Batch    0/10   train_loss = 2.120\n",
      "Epoch  72 Batch    0/10   train_loss = 2.091\n",
      "Epoch  73 Batch    0/10   train_loss = 2.053\n",
      "Epoch  74 Batch    0/10   train_loss = 2.086\n",
      "Epoch  75 Batch    0/10   train_loss = 2.046\n",
      "Epoch  76 Batch    0/10   train_loss = 2.035\n",
      "Epoch  77 Batch    0/10   train_loss = 1.971\n",
      "Epoch  78 Batch    0/10   train_loss = 1.967\n",
      "Epoch  79 Batch    0/10   train_loss = 1.947\n",
      "Epoch  80 Batch    0/10   train_loss = 1.911\n",
      "Epoch  81 Batch    0/10   train_loss = 1.908\n",
      "Epoch  82 Batch    0/10   train_loss = 1.919\n",
      "Epoch  83 Batch    0/10   train_loss = 1.889\n",
      "Epoch  84 Batch    0/10   train_loss = 1.882\n",
      "Epoch  85 Batch    0/10   train_loss = 1.873\n",
      "Epoch  86 Batch    0/10   train_loss = 1.779\n",
      "Epoch  87 Batch    0/10   train_loss = 1.752\n",
      "Epoch  88 Batch    0/10   train_loss = 1.718\n",
      "Epoch  89 Batch    0/10   train_loss = 1.759\n",
      "Epoch  90 Batch    0/10   train_loss = 1.717\n",
      "Epoch  91 Batch    0/10   train_loss = 1.662\n",
      "Epoch  92 Batch    0/10   train_loss = 1.674\n",
      "Epoch  93 Batch    0/10   train_loss = 1.665\n",
      "Epoch  94 Batch    0/10   train_loss = 1.611\n",
      "Epoch  95 Batch    0/10   train_loss = 1.618\n",
      "Epoch  96 Batch    0/10   train_loss = 1.583\n",
      "Epoch  97 Batch    0/10   train_loss = 1.544\n",
      "Epoch  98 Batch    0/10   train_loss = 1.552\n",
      "Epoch  99 Batch    0/10   train_loss = 1.539\n",
      "Epoch 100 Batch    0/10   train_loss = 1.514\n",
      "Epoch 101 Batch    0/10   train_loss = 1.517\n",
      "Epoch 102 Batch    0/10   train_loss = 1.506\n",
      "Epoch 103 Batch    0/10   train_loss = 1.452\n",
      "Epoch 104 Batch    0/10   train_loss = 1.478\n",
      "Epoch 105 Batch    0/10   train_loss = 1.404\n",
      "Epoch 106 Batch    0/10   train_loss = 1.395\n",
      "Epoch 107 Batch    0/10   train_loss = 1.381\n",
      "Epoch 108 Batch    0/10   train_loss = 1.343\n",
      "Epoch 109 Batch    0/10   train_loss = 1.368\n",
      "Epoch 110 Batch    0/10   train_loss = 1.326\n",
      "Epoch 111 Batch    0/10   train_loss = 1.314\n",
      "Epoch 112 Batch    0/10   train_loss = 1.309\n",
      "Epoch 113 Batch    0/10   train_loss = 1.288\n",
      "Epoch 114 Batch    0/10   train_loss = 1.273\n",
      "Epoch 115 Batch    0/10   train_loss = 1.267\n",
      "Epoch 116 Batch    0/10   train_loss = 1.260\n",
      "Epoch 117 Batch    0/10   train_loss = 1.260\n",
      "Epoch 118 Batch    0/10   train_loss = 1.238\n",
      "Epoch 119 Batch    0/10   train_loss = 1.298\n",
      "Epoch 120 Batch    0/10   train_loss = 1.293\n",
      "Epoch 121 Batch    0/10   train_loss = 1.272\n",
      "Epoch 122 Batch    0/10   train_loss = 1.216\n",
      "Epoch 123 Batch    0/10   train_loss = 1.256\n",
      "Epoch 124 Batch    0/10   train_loss = 1.334\n",
      "Epoch 125 Batch    0/10   train_loss = 1.285\n",
      "Epoch 126 Batch    0/10   train_loss = 1.205\n",
      "Epoch 127 Batch    0/10   train_loss = 1.280\n",
      "Epoch 128 Batch    0/10   train_loss = 1.180\n",
      "Epoch 129 Batch    0/10   train_loss = 1.177\n",
      "Epoch 130 Batch    0/10   train_loss = 1.198\n",
      "Epoch 131 Batch    0/10   train_loss = 1.109\n",
      "Epoch 132 Batch    0/10   train_loss = 1.116\n",
      "Epoch 133 Batch    0/10   train_loss = 1.065\n",
      "Epoch 134 Batch    0/10   train_loss = 1.046\n",
      "Epoch 135 Batch    0/10   train_loss = 1.035\n",
      "Epoch 136 Batch    0/10   train_loss = 1.014\n",
      "Epoch 137 Batch    0/10   train_loss = 1.016\n",
      "Epoch 138 Batch    0/10   train_loss = 0.998\n",
      "Epoch 139 Batch    0/10   train_loss = 0.993\n",
      "Epoch 140 Batch    0/10   train_loss = 0.991\n",
      "Epoch 141 Batch    0/10   train_loss = 0.970\n",
      "Epoch 142 Batch    0/10   train_loss = 0.991\n",
      "Epoch 143 Batch    0/10   train_loss = 1.018\n",
      "Epoch 144 Batch    0/10   train_loss = 1.017\n",
      "Epoch 145 Batch    0/10   train_loss = 1.042\n",
      "Epoch 146 Batch    0/10   train_loss = 1.004\n",
      "Epoch 147 Batch    0/10   train_loss = 1.001\n",
      "Epoch 148 Batch    0/10   train_loss = 0.994\n",
      "Epoch 149 Batch    0/10   train_loss = 0.962\n",
      "Epoch 150 Batch    0/10   train_loss = 0.977\n",
      "Epoch 151 Batch    0/10   train_loss = 0.950\n",
      "Epoch 152 Batch    0/10   train_loss = 0.945\n",
      "Epoch 153 Batch    0/10   train_loss = 0.900\n",
      "Epoch 154 Batch    0/10   train_loss = 0.897\n",
      "Epoch 155 Batch    0/10   train_loss = 0.904\n",
      "Epoch 156 Batch    0/10   train_loss = 0.898\n",
      "Epoch 157 Batch    0/10   train_loss = 0.880\n",
      "Epoch 158 Batch    0/10   train_loss = 0.847\n",
      "Epoch 159 Batch    0/10   train_loss = 0.857\n",
      "Epoch 160 Batch    0/10   train_loss = 0.870\n",
      "Epoch 161 Batch    0/10   train_loss = 0.854\n",
      "Epoch 162 Batch    0/10   train_loss = 0.840\n",
      "Epoch 163 Batch    0/10   train_loss = 0.867\n",
      "Epoch 164 Batch    0/10   train_loss = 0.851\n",
      "Epoch 165 Batch    0/10   train_loss = 0.876\n",
      "Epoch 166 Batch    0/10   train_loss = 0.840\n",
      "Epoch 167 Batch    0/10   train_loss = 0.858\n",
      "Epoch 168 Batch    0/10   train_loss = 0.861\n",
      "Epoch 169 Batch    0/10   train_loss = 0.860\n",
      "Epoch 170 Batch    0/10   train_loss = 0.814\n",
      "Epoch 171 Batch    0/10   train_loss = 0.819\n",
      "Epoch 172 Batch    0/10   train_loss = 0.866\n",
      "Epoch 173 Batch    0/10   train_loss = 0.856\n",
      "Epoch 174 Batch    0/10   train_loss = 0.831\n",
      "Epoch 175 Batch    0/10   train_loss = 0.814\n",
      "Epoch 176 Batch    0/10   train_loss = 0.807\n",
      "Epoch 177 Batch    0/10   train_loss = 0.802\n",
      "Epoch 178 Batch    0/10   train_loss = 0.806\n",
      "Epoch 179 Batch    0/10   train_loss = 0.778\n",
      "Epoch 180 Batch    0/10   train_loss = 0.758\n",
      "Epoch 181 Batch    0/10   train_loss = 0.755\n",
      "Epoch 182 Batch    0/10   train_loss = 0.725\n",
      "Epoch 183 Batch    0/10   train_loss = 0.721\n",
      "Epoch 184 Batch    0/10   train_loss = 0.697\n",
      "Epoch 185 Batch    0/10   train_loss = 0.685\n",
      "Epoch 186 Batch    0/10   train_loss = 0.692\n",
      "Epoch 187 Batch    0/10   train_loss = 0.682\n",
      "Epoch 188 Batch    0/10   train_loss = 0.678\n",
      "Epoch 189 Batch    0/10   train_loss = 0.677\n",
      "Epoch 190 Batch    0/10   train_loss = 0.653\n",
      "Epoch 191 Batch    0/10   train_loss = 0.679\n",
      "Epoch 192 Batch    0/10   train_loss = 0.689\n",
      "Epoch 193 Batch    0/10   train_loss = 0.673\n",
      "Epoch 194 Batch    0/10   train_loss = 0.672\n",
      "Epoch 195 Batch    0/10   train_loss = 0.692\n",
      "Epoch 196 Batch    0/10   train_loss = 0.675\n",
      "Epoch 197 Batch    0/10   train_loss = 0.657\n",
      "Epoch 198 Batch    0/10   train_loss = 0.674\n",
      "Epoch 199 Batch    0/10   train_loss = 0.666\n",
      "Model Trained and Saved\n"
     ]
    }
   ],
   "source": [
    "\"\"\"\n",
    "DON'T MODIFY ANYTHING IN THIS CELL\n",
    "\"\"\"\n",
    "batches = get_batches(int_text, batch_size, seq_length)\n",
    "\n",
    "with tf.Session(graph=train_graph) as sess:\n",
    "    sess.run(tf.global_variables_initializer())\n",
    "\n",
    "    for epoch_i in range(num_epochs):\n",
    "        state = sess.run(initial_state, {input_text: batches[0][0]})\n",
    "\n",
    "        for batch_i, (x, y) in enumerate(batches):\n",
    "            feed = {\n",
    "                input_text: x,\n",
    "                targets: y,\n",
    "                initial_state: state,\n",
    "                lr: learning_rate}\n",
    "            train_loss, state, _ = sess.run([cost, final_state, train_op], feed)\n",
    "\n",
    "            # Show every <show_every_n_batches> batches\n",
    "            if (epoch_i * len(batches) + batch_i) % show_every_n_batches == 0:\n",
    "                print('Epoch {:>3} Batch {:>4}/{}   train_loss = {:.3f}'.format(\n",
    "                    epoch_i,\n",
    "                    batch_i,\n",
    "                    len(batches),\n",
    "                    train_loss))\n",
    "\n",
    "    # Save Model\n",
    "    saver = tf.train.Saver()\n",
    "    saver.save(sess, save_dir)\n",
    "    print('Model Trained and Saved')"
   ]
  },
  {
   "cell_type": "markdown",
   "metadata": {
    "deletable": true,
    "editable": true
   },
   "source": [
    "## Save Parameters\n",
    "Save `seq_length` and `save_dir` for generating a new TV script."
   ]
  },
  {
   "cell_type": "code",
   "execution_count": 35,
   "metadata": {
    "collapsed": true,
    "deletable": true,
    "editable": true
   },
   "outputs": [],
   "source": [
    "\"\"\"\n",
    "DON'T MODIFY ANYTHING IN THIS CELL\n",
    "\"\"\"\n",
    "# Save parameters for checkpoint\n",
    "helper.save_params((seq_length, save_dir))"
   ]
  },
  {
   "cell_type": "markdown",
   "metadata": {
    "deletable": true,
    "editable": true
   },
   "source": [
    "# Checkpoint"
   ]
  },
  {
   "cell_type": "code",
   "execution_count": 36,
   "metadata": {
    "collapsed": true,
    "deletable": true,
    "editable": true
   },
   "outputs": [],
   "source": [
    "\"\"\"\n",
    "DON'T MODIFY ANYTHING IN THIS CELL\n",
    "\"\"\"\n",
    "import tensorflow as tf\n",
    "import numpy as np\n",
    "import helper\n",
    "import problem_unittests as tests\n",
    "\n",
    "_, vocab_to_int, int_to_vocab, token_dict = helper.load_preprocess()\n",
    "seq_length, load_dir = helper.load_params()"
   ]
  },
  {
   "cell_type": "markdown",
   "metadata": {
    "deletable": true,
    "editable": true
   },
   "source": [
    "## Implement Generate Functions\n",
    "### Get Tensors\n",
    "Get tensors from `loaded_graph` using the function [`get_tensor_by_name()`](https://www.tensorflow.org/api_docs/python/tf/Graph#get_tensor_by_name).  Get the tensors using the following names:\n",
    "- \"input:0\"\n",
    "- \"initial_state:0\"\n",
    "- \"final_state:0\"\n",
    "- \"probs:0\"\n",
    "\n",
    "Return the tensors in the following tuple `(InputTensor, InitialStateTensor, FinalStateTensor, ProbsTensor)` "
   ]
  },
  {
   "cell_type": "code",
   "execution_count": 37,
   "metadata": {
    "collapsed": false,
    "deletable": true,
    "editable": true
   },
   "outputs": [
    {
     "name": "stdout",
     "output_type": "stream",
     "text": [
      "Tests Passed\n"
     ]
    }
   ],
   "source": [
    "def get_tensors(loaded_graph):\n",
    "    \"\"\"\n",
    "    Get input, initial state, final state, and probabilities tensor from <loaded_graph>\n",
    "    :param loaded_graph: TensorFlow graph loaded from file\n",
    "    :return: Tuple (InputTensor, InitialStateTensor, FinalStateTensor, ProbsTensor)\n",
    "    \"\"\"\n",
    "    # TODO: Implement Function\n",
    "    input_text = loaded_graph.get_tensor_by_name(\"input:0\")\n",
    "    initial_state = loaded_graph.get_tensor_by_name(\"initial_state:0\")\n",
    "    final_state = loaded_graph.get_tensor_by_name(\"final_state:0\")\n",
    "    probs = loaded_graph.get_tensor_by_name(\"probs:0\")\n",
    "    return input_text, initial_state, final_state, probs\n",
    "\n",
    "\n",
    "\"\"\"\n",
    "DON'T MODIFY ANYTHING IN THIS CELL THAT IS BELOW THIS LINE\n",
    "\"\"\"\n",
    "tests.test_get_tensors(get_tensors)"
   ]
  },
  {
   "cell_type": "markdown",
   "metadata": {
    "deletable": true,
    "editable": true
   },
   "source": [
    "### Choose Word\n",
    "Implement the `pick_word()` function to select the next word using `probabilities`."
   ]
  },
  {
   "cell_type": "code",
   "execution_count": 38,
   "metadata": {
    "collapsed": false,
    "deletable": true,
    "editable": true
   },
   "outputs": [
    {
     "name": "stdout",
     "output_type": "stream",
     "text": [
      "Tests Passed\n"
     ]
    }
   ],
   "source": [
    "def pick_word(probabilities, int_to_vocab):\n",
    "    \"\"\"\n",
    "    Pick the next word in the generated text\n",
    "    :param probabilities: Probabilites of the next word\n",
    "    :param int_to_vocab: Dictionary of word ids as the keys and words as the values\n",
    "    :return: String of the predicted word\n",
    "    \"\"\"\n",
    "    # TODO: Implement Function\n",
    "\n",
    "    return int_to_vocab[probabilities.argmax()]\n",
    "\n",
    "\n",
    "\"\"\"\n",
    "DON'T MODIFY ANYTHING IN THIS CELL THAT IS BELOW THIS LINE\n",
    "\"\"\"\n",
    "tests.test_pick_word(pick_word)"
   ]
  },
  {
   "cell_type": "markdown",
   "metadata": {
    "deletable": true,
    "editable": true
   },
   "source": [
    "## Generate TV Script\n",
    "This will generate the TV script for you.  Set `gen_length` to the length of TV script you want to generate."
   ]
  },
  {
   "cell_type": "code",
   "execution_count": 39,
   "metadata": {
    "collapsed": false,
    "deletable": true,
    "editable": true
   },
   "outputs": [
    {
     "name": "stdout",
     "output_type": "stream",
     "text": [
      "INFO:tensorflow:Restoring parameters from ./save\n",
      "moe_szyslak:(sighs) yeah, i suppose i could do no more less an assassination, or two make me know a woman, more fat!\n",
      "homer_simpson: yeah, yeah. you don't think hello?\n",
      "homer_simpson:(still dancing) sure! oh yeah!(laughs) sorry.(ad lib came) you're called your duff) okay, you just saved us back, but i don't know, is you mean that!\n",
      "homer_simpson:(derisive snort) yeah, you don't get a\" flaming moe\"...\n",
      "homer_simpson: y'see?!\n",
      "homer_simpson:(scoffs) who knows lookin' in here.\n",
      "\n",
      "\n",
      "homer_simpson: hey, moe, you know, i don't want you to recreate your purse.\n",
      "barney_gumble: it was...\n",
      "moe_szyslak: yeah, but you'd feel bad inside. you came to the change moments... i've been readin' that\" was\" tom moonlight charity cruise.\n",
      "homer_simpson: i can't stand to get the pope, and that's what who you you, right. i'm five grand...\n"
     ]
    }
   ],
   "source": [
    "gen_length = 200\n",
    "# homer_simpson, moe_szyslak, or Barney_Gumble\n",
    "prime_word = 'moe_szyslak'\n",
    "\n",
    "\"\"\"\n",
    "DON'T MODIFY ANYTHING IN THIS CELL THAT IS BELOW THIS LINE\n",
    "\"\"\"\n",
    "loaded_graph = tf.Graph()\n",
    "with tf.Session(graph=loaded_graph) as sess:\n",
    "    # Load saved model\n",
    "    loader = tf.train.import_meta_graph(load_dir + '.meta')\n",
    "    loader.restore(sess, load_dir)\n",
    "\n",
    "    # Get Tensors from loaded model\n",
    "    input_text, initial_state, final_state, probs = get_tensors(loaded_graph)\n",
    "\n",
    "    # Sentences generation setup\n",
    "    gen_sentences = [prime_word + ':']\n",
    "    prev_state = sess.run(initial_state, {input_text: np.array([[1]])})\n",
    "\n",
    "    # Generate sentences\n",
    "    for n in range(gen_length):\n",
    "        # Dynamic Input\n",
    "        dyn_input = [[vocab_to_int[word] for word in gen_sentences[-seq_length:]]]\n",
    "        dyn_seq_length = len(dyn_input[0])\n",
    "\n",
    "        # Get Prediction\n",
    "        probabilities, prev_state = sess.run(\n",
    "            [probs, final_state],\n",
    "            {input_text: dyn_input, initial_state: prev_state})\n",
    "        # [0] was added to the following line (please refer to submission comment)\n",
    "        pred_word = pick_word(probabilities[0][dyn_seq_length-1], int_to_vocab)\n",
    "\n",
    "        gen_sentences.append(pred_word)\n",
    "    \n",
    "    # Remove tokens\n",
    "    tv_script = ' '.join(gen_sentences)\n",
    "    for key, token in token_dict.items():\n",
    "        ending = ' ' if key in ['\\n', '(', '\"'] else ''\n",
    "        tv_script = tv_script.replace(' ' + token.lower(), key)\n",
    "    tv_script = tv_script.replace('\\n ', '\\n')\n",
    "    tv_script = tv_script.replace('( ', '(')\n",
    "        \n",
    "    print(tv_script)"
   ]
  },
  {
   "cell_type": "markdown",
   "metadata": {
    "deletable": true,
    "editable": true
   },
   "source": [
    "# The TV Script is Nonsensical\n",
    "It's ok if the TV script doesn't make any sense.  We trained on less than a megabyte of text.  In order to get good results, you'll have to use a smaller vocabulary or get more data.  Luckly there's more data!  As we mentioned in the begging of this project, this is a subset of [another dataset](https://www.kaggle.com/wcukierski/the-simpsons-by-the-data).  We didn't have you train on all the data, because that would take too long.  However, you are free to train your neural network on all the data.  After you complete the project, of course.\n",
    "# Submitting This Project\n",
    "When submitting this project, make sure to run all the cells before saving the notebook. Save the notebook file as \"dlnd_tv_script_generation.ipynb\" and save it as a HTML file under \"File\" -> \"Download as\". Include the \"helper.py\" and \"problem_unittests.py\" files in your submission."
   ]
  }
 ],
 "metadata": {
  "kernelspec": {
   "display_name": "Python 3",
   "language": "python",
   "name": "python3"
  },
  "language_info": {
   "codemirror_mode": {
    "name": "ipython",
    "version": 3
   },
   "file_extension": ".py",
   "mimetype": "text/x-python",
   "name": "python",
   "nbconvert_exporter": "python",
   "pygments_lexer": "ipython3",
   "version": "3.5.4"
  },
  "widgets": {
   "state": {},
   "version": "1.1.2"
  }
 },
 "nbformat": 4,
 "nbformat_minor": 1
}
